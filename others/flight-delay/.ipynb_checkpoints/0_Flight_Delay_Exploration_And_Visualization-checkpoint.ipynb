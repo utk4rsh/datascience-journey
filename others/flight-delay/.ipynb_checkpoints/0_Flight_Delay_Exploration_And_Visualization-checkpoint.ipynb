{
 "metadata": {
  "name": "",
  "signature": "sha256:55cd7d8de28f927a1df5adda4702637c78f43dda4b917c2b140ecd08c1136b3b"
 },
 "nbformat": 3,
 "nbformat_minor": 0,
 "worksheets": [
  {
   "cells": [
    {
     "cell_type": "markdown",
     "metadata": {},
     "source": [
      "## Predict Flight Delay"
     ]
    },
    {
     "cell_type": "code",
     "collapsed": false,
     "input": [
      "import matplotlib.pyplot as plt\n",
      "from sklearn.ensemble import RandomForestClassifier, AdaBoostClassifier\n",
      "%matplotlib inline\n",
      "import pandas as pd\n",
      "import numpy as np\n",
      "import csv as csv\n",
      "# Seaborn is a Python graphing library\n",
      "import warnings # current version of seaborn generates a bunch of warnings that we'll ignore\n",
      "warnings.filterwarnings(\"ignore\")\n",
      "import seaborn as sns\n",
      "\n",
      "# Load the train file into a dataframe\n",
      "train_df = pd.read_csv('data/train_nn.csv', header=0)"
     ],
     "language": "python",
     "metadata": {},
     "outputs": [],
     "prompt_number": 16
    },
    {
     "cell_type": "markdown",
     "metadata": {},
     "source": [
      "### Data Insights"
     ]
    },
    {
     "cell_type": "code",
     "collapsed": false,
     "input": [
      "train_df.describe()"
     ],
     "language": "python",
     "metadata": {},
     "outputs": [
      {
       "html": [
        "<div style=\"max-width:1500px;overflow:auto;\">\n",
        "<table border=\"1\" class=\"dataframe\">\n",
        "  <thead>\n",
        "    <tr style=\"text-align: right;\">\n",
        "      <th></th>\n",
        "      <th>Unnamed: 0</th>\n",
        "      <th>Year</th>\n",
        "      <th>Month</th>\n",
        "      <th>DayofMonth</th>\n",
        "      <th>DayOfWeek</th>\n",
        "      <th>DepTime</th>\n",
        "      <th>CRSDepTime</th>\n",
        "      <th>ArrTime</th>\n",
        "      <th>CRSArrTime</th>\n",
        "      <th>FlightNum</th>\n",
        "      <th>ActualElapsedTime</th>\n",
        "      <th>CRSElapsedTime</th>\n",
        "      <th>AirTime</th>\n",
        "      <th>ArrDelay</th>\n",
        "      <th>DepDelay</th>\n",
        "      <th>Distance</th>\n",
        "      <th>TaxiIn</th>\n",
        "      <th>TaxiOut</th>\n",
        "      <th>Cancelled</th>\n",
        "      <th>Diverted</th>\n",
        "    </tr>\n",
        "  </thead>\n",
        "  <tbody>\n",
        "    <tr>\n",
        "      <th>count</th>\n",
        "      <td>7009728.000000</td>\n",
        "      <td>7009728</td>\n",
        "      <td>7009728.000000</td>\n",
        "      <td>7009728.000000</td>\n",
        "      <td>7009728.000000</td>\n",
        "      <td>6873482.000000</td>\n",
        "      <td>7009728.000000</td>\n",
        "      <td>6858079.000000</td>\n",
        "      <td>7009728.000000</td>\n",
        "      <td>7009728.000000</td>\n",
        "      <td>6855029.000000</td>\n",
        "      <td>7008884.000000</td>\n",
        "      <td>6855029.000000</td>\n",
        "      <td>6855029.000000</td>\n",
        "      <td>6873482.000000</td>\n",
        "      <td>7009728.000000</td>\n",
        "      <td>6858079.000000</td>\n",
        "      <td>6872670.000000</td>\n",
        "      <td>7009728.000000</td>\n",
        "      <td>7009728.000000</td>\n",
        "    </tr>\n",
        "    <tr>\n",
        "      <th>mean</th>\n",
        "      <td>3504863.500000</td>\n",
        "      <td>2008</td>\n",
        "      <td>6.375130</td>\n",
        "      <td>15.728015</td>\n",
        "      <td>3.924182</td>\n",
        "      <td>1333.830046</td>\n",
        "      <td>1326.085663</td>\n",
        "      <td>1481.258227</td>\n",
        "      <td>1494.801154</td>\n",
        "      <td>2224.200105</td>\n",
        "      <td>127.322424</td>\n",
        "      <td>128.866794</td>\n",
        "      <td>104.018589</td>\n",
        "      <td>8.168452</td>\n",
        "      <td>9.972570</td>\n",
        "      <td>726.387029</td>\n",
        "      <td>6.860852</td>\n",
        "      <td>16.453045</td>\n",
        "      <td>0.019606</td>\n",
        "      <td>0.002463</td>\n",
        "    </tr>\n",
        "    <tr>\n",
        "      <th>std</th>\n",
        "      <td>2023534.318211</td>\n",
        "      <td>0</td>\n",
        "      <td>3.406737</td>\n",
        "      <td>8.797068</td>\n",
        "      <td>1.988259</td>\n",
        "      <td>478.068895</td>\n",
        "      <td>464.250911</td>\n",
        "      <td>505.225129</td>\n",
        "      <td>482.672822</td>\n",
        "      <td>1961.715999</td>\n",
        "      <td>70.187308</td>\n",
        "      <td>69.409736</td>\n",
        "      <td>67.439796</td>\n",
        "      <td>38.501937</td>\n",
        "      <td>35.311271</td>\n",
        "      <td>562.101803</td>\n",
        "      <td>4.933649</td>\n",
        "      <td>11.332799</td>\n",
        "      <td>0.138643</td>\n",
        "      <td>0.049568</td>\n",
        "    </tr>\n",
        "    <tr>\n",
        "      <th>min</th>\n",
        "      <td>0.000000</td>\n",
        "      <td>2008</td>\n",
        "      <td>1.000000</td>\n",
        "      <td>1.000000</td>\n",
        "      <td>1.000000</td>\n",
        "      <td>1.000000</td>\n",
        "      <td>0.000000</td>\n",
        "      <td>1.000000</td>\n",
        "      <td>0.000000</td>\n",
        "      <td>1.000000</td>\n",
        "      <td>12.000000</td>\n",
        "      <td>-141.000000</td>\n",
        "      <td>0.000000</td>\n",
        "      <td>-519.000000</td>\n",
        "      <td>-534.000000</td>\n",
        "      <td>11.000000</td>\n",
        "      <td>0.000000</td>\n",
        "      <td>0.000000</td>\n",
        "      <td>0.000000</td>\n",
        "      <td>0.000000</td>\n",
        "    </tr>\n",
        "    <tr>\n",
        "      <th>25%</th>\n",
        "      <td>1752431.750000</td>\n",
        "      <td>2008</td>\n",
        "      <td>3.000000</td>\n",
        "      <td>8.000000</td>\n",
        "      <td>2.000000</td>\n",
        "      <td>928.000000</td>\n",
        "      <td>925.000000</td>\n",
        "      <td>1107.000000</td>\n",
        "      <td>1115.000000</td>\n",
        "      <td>622.000000</td>\n",
        "      <td>77.000000</td>\n",
        "      <td>80.000000</td>\n",
        "      <td>55.000000</td>\n",
        "      <td>-10.000000</td>\n",
        "      <td>-4.000000</td>\n",
        "      <td>325.000000</td>\n",
        "      <td>4.000000</td>\n",
        "      <td>10.000000</td>\n",
        "      <td>0.000000</td>\n",
        "      <td>0.000000</td>\n",
        "    </tr>\n",
        "    <tr>\n",
        "      <th>50%</th>\n",
        "      <td>3504863.500000</td>\n",
        "      <td>2008</td>\n",
        "      <td>6.000000</td>\n",
        "      <td>16.000000</td>\n",
        "      <td>4.000000</td>\n",
        "      <td>1325.000000</td>\n",
        "      <td>1320.000000</td>\n",
        "      <td>1512.000000</td>\n",
        "      <td>1517.000000</td>\n",
        "      <td>1571.000000</td>\n",
        "      <td>110.000000</td>\n",
        "      <td>110.000000</td>\n",
        "      <td>86.000000</td>\n",
        "      <td>-2.000000</td>\n",
        "      <td>-1.000000</td>\n",
        "      <td>581.000000</td>\n",
        "      <td>6.000000</td>\n",
        "      <td>14.000000</td>\n",
        "      <td>0.000000</td>\n",
        "      <td>0.000000</td>\n",
        "    </tr>\n",
        "    <tr>\n",
        "      <th>75%</th>\n",
        "      <td>5257295.250000</td>\n",
        "      <td>2008</td>\n",
        "      <td>9.000000</td>\n",
        "      <td>23.000000</td>\n",
        "      <td>6.000000</td>\n",
        "      <td>1728.000000</td>\n",
        "      <td>1715.000000</td>\n",
        "      <td>1909.000000</td>\n",
        "      <td>1907.000000</td>\n",
        "      <td>3518.000000</td>\n",
        "      <td>157.000000</td>\n",
        "      <td>159.000000</td>\n",
        "      <td>132.000000</td>\n",
        "      <td>12.000000</td>\n",
        "      <td>8.000000</td>\n",
        "      <td>954.000000</td>\n",
        "      <td>8.000000</td>\n",
        "      <td>19.000000</td>\n",
        "      <td>0.000000</td>\n",
        "      <td>0.000000</td>\n",
        "    </tr>\n",
        "    <tr>\n",
        "      <th>max</th>\n",
        "      <td>7009727.000000</td>\n",
        "      <td>2008</td>\n",
        "      <td>12.000000</td>\n",
        "      <td>31.000000</td>\n",
        "      <td>7.000000</td>\n",
        "      <td>2400.000000</td>\n",
        "      <td>2359.000000</td>\n",
        "      <td>2400.000000</td>\n",
        "      <td>2400.000000</td>\n",
        "      <td>9743.000000</td>\n",
        "      <td>1379.000000</td>\n",
        "      <td>1435.000000</td>\n",
        "      <td>1350.000000</td>\n",
        "      <td>2461.000000</td>\n",
        "      <td>2467.000000</td>\n",
        "      <td>4962.000000</td>\n",
        "      <td>308.000000</td>\n",
        "      <td>429.000000</td>\n",
        "      <td>1.000000</td>\n",
        "      <td>1.000000</td>\n",
        "    </tr>\n",
        "  </tbody>\n",
        "</table>\n",
        "</div>"
       ],
       "metadata": {},
       "output_type": "pyout",
       "prompt_number": 13,
       "text": [
        "           Unnamed: 0     Year           Month      DayofMonth  \\\n",
        "count  7009728.000000  7009728  7009728.000000  7009728.000000   \n",
        "mean   3504863.500000     2008        6.375130       15.728015   \n",
        "std    2023534.318211        0        3.406737        8.797068   \n",
        "min          0.000000     2008        1.000000        1.000000   \n",
        "25%    1752431.750000     2008        3.000000        8.000000   \n",
        "50%    3504863.500000     2008        6.000000       16.000000   \n",
        "75%    5257295.250000     2008        9.000000       23.000000   \n",
        "max    7009727.000000     2008       12.000000       31.000000   \n",
        "\n",
        "            DayOfWeek         DepTime      CRSDepTime         ArrTime  \\\n",
        "count  7009728.000000  6873482.000000  7009728.000000  6858079.000000   \n",
        "mean         3.924182     1333.830046     1326.085663     1481.258227   \n",
        "std          1.988259      478.068895      464.250911      505.225129   \n",
        "min          1.000000        1.000000        0.000000        1.000000   \n",
        "25%          2.000000      928.000000      925.000000     1107.000000   \n",
        "50%          4.000000     1325.000000     1320.000000     1512.000000   \n",
        "75%          6.000000     1728.000000     1715.000000     1909.000000   \n",
        "max          7.000000     2400.000000     2359.000000     2400.000000   \n",
        "\n",
        "           CRSArrTime       FlightNum  ActualElapsedTime  CRSElapsedTime  \\\n",
        "count  7009728.000000  7009728.000000     6855029.000000  7008884.000000   \n",
        "mean      1494.801154     2224.200105         127.322424      128.866794   \n",
        "std        482.672822     1961.715999          70.187308       69.409736   \n",
        "min          0.000000        1.000000          12.000000     -141.000000   \n",
        "25%       1115.000000      622.000000          77.000000       80.000000   \n",
        "50%       1517.000000     1571.000000         110.000000      110.000000   \n",
        "75%       1907.000000     3518.000000         157.000000      159.000000   \n",
        "max       2400.000000     9743.000000        1379.000000     1435.000000   \n",
        "\n",
        "              AirTime        ArrDelay        DepDelay        Distance  \\\n",
        "count  6855029.000000  6855029.000000  6873482.000000  7009728.000000   \n",
        "mean       104.018589        8.168452        9.972570      726.387029   \n",
        "std         67.439796       38.501937       35.311271      562.101803   \n",
        "min          0.000000     -519.000000     -534.000000       11.000000   \n",
        "25%         55.000000      -10.000000       -4.000000      325.000000   \n",
        "50%         86.000000       -2.000000       -1.000000      581.000000   \n",
        "75%        132.000000       12.000000        8.000000      954.000000   \n",
        "max       1350.000000     2461.000000     2467.000000     4962.000000   \n",
        "\n",
        "               TaxiIn         TaxiOut       Cancelled        Diverted  \n",
        "count  6858079.000000  6872670.000000  7009728.000000  7009728.000000  \n",
        "mean         6.860852       16.453045        0.019606        0.002463  \n",
        "std          4.933649       11.332799        0.138643        0.049568  \n",
        "min          0.000000        0.000000        0.000000        0.000000  \n",
        "25%          4.000000       10.000000        0.000000        0.000000  \n",
        "50%          6.000000       14.000000        0.000000        0.000000  \n",
        "75%          8.000000       19.000000        0.000000        0.000000  \n",
        "max        308.000000      429.000000        1.000000        1.000000  "
       ]
      }
     ],
     "prompt_number": 13
    },
    {
     "cell_type": "code",
     "collapsed": false,
     "input": [
      "train_df.info()"
     ],
     "language": "python",
     "metadata": {},
     "outputs": [
      {
       "output_type": "stream",
       "stream": "stdout",
       "text": [
        "<class 'pandas.core.frame.DataFrame'>\n",
        "Int64Index: 70097 entries, 1732633 to 1853195\n",
        "Data columns (total 24 columns):\n",
        "Unnamed: 0           70097 non-null int64\n",
        "Year                 70097 non-null int64\n",
        "Month                70097 non-null int64\n",
        "DayofMonth           70097 non-null int64\n",
        "DayOfWeek            70097 non-null int64\n",
        "DepTime              68754 non-null float64\n",
        "CRSDepTime           70097 non-null int64\n",
        "ArrTime              68600 non-null float64\n",
        "CRSArrTime           70097 non-null int64\n",
        "UniqueCarrier        70097 non-null object\n",
        "FlightNum            70097 non-null int64\n",
        "TailNum              69272 non-null object\n",
        "ActualElapsedTime    68568 non-null float64\n",
        "CRSElapsedTime       70088 non-null float64\n",
        "AirTime              68568 non-null float64\n",
        "ArrDelay             68568 non-null float64\n",
        "DepDelay             68754 non-null float64\n",
        "Origin               70097 non-null object\n",
        "Dest                 70097 non-null object\n",
        "Distance             70097 non-null int64\n",
        "TaxiIn               68600 non-null float64\n",
        "TaxiOut              68746 non-null float64\n",
        "Cancelled            70097 non-null int64\n",
        "Diverted             70097 non-null int64\n",
        "dtypes: float64(9), int64(11), object(4)\n",
        "memory usage: 13.4+ MB\n"
       ]
      }
     ],
     "prompt_number": 3
    },
    {
     "cell_type": "code",
     "collapsed": false,
     "input": [
      "train_df['isDelayed'] = train_df.DepDelay.map(lambda x: 1 if x > 10 else 0)\n",
      "train_df = train_df.drop(['DepDelay', 'Unnamed: 0'], axis=1)\n",
      "train_df = train_df.dropna()"
     ],
     "language": "python",
     "metadata": {},
     "outputs": [],
     "prompt_number": 17
    },
    {
     "cell_type": "code",
     "collapsed": false,
     "input": [
      "train_df.columns"
     ],
     "language": "python",
     "metadata": {},
     "outputs": [
      {
       "metadata": {},
       "output_type": "pyout",
       "prompt_number": 29,
       "text": [
        "Index([u'Year', u'Month', u'DayofMonth', u'DayOfWeek', u'DepTime',\n",
        "       u'CRSDepTime', u'ArrTime', u'CRSArrTime', u'UniqueCarrier',\n",
        "       u'FlightNum', u'TailNum', u'ActualElapsedTime', u'CRSElapsedTime',\n",
        "       u'AirTime', u'ArrDelay', u'DepDelay', u'Origin', u'Dest', u'Distance',\n",
        "       u'TaxiIn', u'TaxiOut', u'Cancelled', u'Diverted'],\n",
        "      dtype='object')"
       ]
      }
     ],
     "prompt_number": 29
    },
    {
     "cell_type": "code",
     "collapsed": false,
     "input": [
      "train_df.info()"
     ],
     "language": "python",
     "metadata": {},
     "outputs": [
      {
       "output_type": "stream",
       "stream": "stdout",
       "text": [
        "<class 'pandas.core.frame.DataFrame'>\n",
        "Int64Index: 68568 entries, 1732633 to 1853195\n",
        "Data columns (total 24 columns):\n",
        "Unnamed: 0           68568 non-null int64\n",
        "Year                 68568 non-null int64\n",
        "Month                68568 non-null int64\n",
        "DayofMonth           68568 non-null int64\n",
        "DayOfWeek            68568 non-null int64\n",
        "DepTime              68568 non-null float64\n",
        "CRSDepTime           68568 non-null int64\n",
        "ArrTime              68568 non-null float64\n",
        "CRSArrTime           68568 non-null int64\n",
        "UniqueCarrier        68568 non-null object\n",
        "FlightNum            68568 non-null int64\n",
        "TailNum              68568 non-null object\n",
        "ActualElapsedTime    68568 non-null float64\n",
        "CRSElapsedTime       68568 non-null float64\n",
        "AirTime              68568 non-null float64\n",
        "ArrDelay             68568 non-null float64\n",
        "DepDelay             68568 non-null float64\n",
        "Origin               68568 non-null object\n",
        "Dest                 68568 non-null object\n",
        "Distance             68568 non-null int64\n",
        "TaxiIn               68568 non-null float64\n",
        "TaxiOut              68568 non-null float64\n",
        "Cancelled            68568 non-null int64\n",
        "Diverted             68568 non-null int64\n",
        "dtypes: float64(9), int64(11), object(4)\n",
        "memory usage: 13.1+ MB\n"
       ]
      }
     ],
     "prompt_number": 5
    },
    {
     "cell_type": "markdown",
     "metadata": {},
     "source": [
      "### Exploration on Delays"
     ]
    },
    {
     "cell_type": "markdown",
     "metadata": {},
     "source": [
      "####Distribution of Delays alone"
     ]
    },
    {
     "cell_type": "code",
     "collapsed": false,
     "input": [
      "fig = plt.figure(figsize=(20,10), dpi=300) \n",
      "alpha = alpha_scatterplot = 0.2 \n",
      "ax1 = plt.subplot2grid((2,3),(0,0))\n",
      "train_df.isDelayed.value_counts().plot(kind='bar')\n",
      "plt.title(\"Distribution of Flight Delays\")\n"
     ],
     "language": "python",
     "metadata": {},
     "outputs": [
      {
       "metadata": {},
       "output_type": "pyout",
       "prompt_number": 14,
       "text": [
        "<matplotlib.text.Text at 0x7fb0254c3550>"
       ]
      },
      {
       "metadata": {},
       "output_type": "display_data",
       "png": "[encoded data removed]",
       "text": [
        "<matplotlib.figure.Figure at 0x7fb024b8ae10>"
       ]
      }
     ],
     "prompt_number": 14
    },
    {
     "cell_type": "markdown",
     "metadata": {},
     "source": [
      "### Probability of Delay by Day of week"
     ]
    },
    {
     "cell_type": "code",
     "collapsed": false,
     "input": [
      "g = sns.factorplot(x=\"DayOfWeek\", y=\"isDelayed\", data=train_df, size=6, kind=\"bar\", palette=\"muted\")"
     ],
     "language": "python",
     "metadata": {},
     "outputs": [
      {
       "metadata": {},
       "output_type": "display_data",
       "png": "[encoded data removed]",
       "text": [
        "<matplotlib.figure.Figure at 0x7fb02554c690>"
       ]
      }
     ],
     "prompt_number": 17
    },
    {
     "cell_type": "markdown",
     "metadata": {},
     "source": [
      "### Probability of Delay by Carrier"
     ]
    },
    {
     "cell_type": "code",
     "collapsed": false,
     "input": [
      "g = sns.factorplot(x=\"UniqueCarrier\", y=\"isDelayed\", data=train_df, size=20, kind=\"bar\", palette=\"muted\")"
     ],
     "language": "python",
     "metadata": {},
     "outputs": [
      {
       "metadata": {},
       "output_type": "display_data",
       "png": "[encoded data removed]",
       "text": [
        "<matplotlib.figure.Figure at 0x7fb02569c4d0>"
       ]
      }
     ],
     "prompt_number": 18
    }
   ],
   "metadata": {}
  }
 ]
}