{
 "metadata": {
  "name": "",
  "signature": "sha256:bf10f1703468b56098feacbb889ec887b639a8e73bdcb081e3be77fc1f9187f3"
 },
 "nbformat": 3,
 "nbformat_minor": 0,
 "worksheets": [
  {
   "cells": [
    {
     "cell_type": "markdown",
     "metadata": {},
     "source": [
      "#TOI New Data Classification "
     ]
    },
    {
     "cell_type": "markdown",
     "metadata": {},
     "source": [
      "The dataset is from times of india belonging to two categories namely politics & sports. This notebook attempts to do document classificaiton of this dataset using scikit learn."
     ]
    },
    {
     "cell_type": "markdown",
     "metadata": {},
     "source": [
      "###Loading the data"
     ]
    },
    {
     "cell_type": "code",
     "collapsed": false,
     "input": [
      "from sklearn.pipeline import Pipeline\n",
      "from sklearn.feature_extraction.text import CountVectorizer\n",
      "from sklearn.feature_extraction.text import TfidfTransformer\n",
      "from sklearn.feature_extraction.text import TfidfVectorizer\n",
      "from sklearn.decomposition import TruncatedSVD\n",
      "from sklearn.manifold import TSNE\n",
      "from sklearn.linear_model import SGDClassifier\n",
      "from sklearn import cross_validation\n",
      "from sklearn.pipeline import Pipeline\n",
      "from sklearn.grid_search import GridSearchCV\n",
      "from sklearn.metrics import confusion_matrix\n",
      "from sklearn.naive_bayes import MultinomialNB\n",
      "from sklearn.datasets import load_files\n",
      "from sklearn.svm import LinearSVC\n",
      "\n",
      "import warnings # current version of seaborn generates a bunch of warnings that we'll ignore\n",
      "warnings.filterwarnings(\"ignore\")\n",
      "import seaborn as sns\n",
      "%matplotlib inline\n",
      "import matplotlib.pyplot as plt\n",
      "\n",
      "CATEGORIES=[\"politics\",\"sports\"]\n",
      " \n",
      "data=load_files('data/classification_dataset',categories=CATEGORIES)\n",
      "documents = [open(f).read() for f in data.filenames]\n",
      "\n",
      "print \"Total Documents in all categories\", len(documents)"
     ],
     "language": "python",
     "metadata": {},
     "outputs": [
      {
       "output_type": "stream",
       "stream": "stdout",
       "text": [
        "Total Documents in all categories 200\n"
       ]
      }
     ],
     "prompt_number": 1
    },
    {
     "cell_type": "markdown",
     "metadata": {},
     "source": [
      "### Vectorizing Text Data"
     ]
    },
    {
     "cell_type": "markdown",
     "metadata": {},
     "source": [
      "Scikit Learn works with features only having numeric values, we will use vectorizers to convert text to vectors before starting classification"
     ]
    },
    {
     "cell_type": "markdown",
     "metadata": {},
     "source": [
      "###Visualization using t-SNE"
     ]
    },
    {
     "cell_type": "markdown",
     "metadata": {},
     "source": [
      "t-Distributed Stochastic Neighbor Embedding (t-SNE) is a technique for dimensionality reduction that is particularly well suited for the visualization of high-dimensional datasets.\n",
      "Lets try to visualize the dataset after dimensionality reduction and fitting to t-sne for plotting in 2-D"
     ]
    },
    {
     "cell_type": "code",
     "collapsed": false,
     "input": [
      "vectors = TfidfVectorizer().fit_transform(documents)\n",
      "vectors.shape"
     ],
     "language": "python",
     "metadata": {},
     "outputs": [
      {
       "metadata": {},
       "output_type": "pyout",
       "prompt_number": 2,
       "text": [
        "(200, 8719)"
       ]
      }
     ],
     "prompt_number": 2
    },
    {
     "cell_type": "markdown",
     "metadata": {},
     "source": [
      "###Visualizing TF-IDF disribution with respect to categories."
     ]
    },
    {
     "cell_type": "markdown",
     "metadata": {},
     "source": [
      "Before using t-SNE it is better to do a dimensionality reduction using SVD to few dimensions for performance"
     ]
    },
    {
     "cell_type": "code",
     "collapsed": false,
     "input": [
      "X_reduced = TruncatedSVD(n_components=50, random_state=0).fit_transform(vectors)"
     ],
     "language": "python",
     "metadata": {},
     "outputs": [],
     "prompt_number": 3
    },
    {
     "cell_type": "code",
     "collapsed": false,
     "input": [
      "X_embedded = TSNE(n_components=2, perplexity=40, verbose=2).fit_transform(X_reduced)"
     ],
     "language": "python",
     "metadata": {},
     "outputs": [
      {
       "output_type": "stream",
       "stream": "stdout",
       "text": [
        "[t-SNE] Computing pairwise distances...\n",
        "[t-SNE] Computing 121 nearest neighbors...\n",
        "[t-SNE] Computed conditional probabilities for sample 200 / 200"
       ]
      },
      {
       "output_type": "stream",
       "stream": "stdout",
       "text": [
        "\n",
        "[t-SNE] Mean sigma: 0.293959\n",
        "[t-SNE] Iteration 25: error = 1.0530574, gradient norm = 0.0259760"
       ]
      },
      {
       "output_type": "stream",
       "stream": "stdout",
       "text": [
        "\n",
        "[t-SNE] Iteration 50: error = 1.7834536, gradient norm = 0.0462043"
       ]
      },
      {
       "output_type": "stream",
       "stream": "stdout",
       "text": [
        "\n",
        "[t-SNE] Iteration 75: error = 2.4035940, gradient norm = 0.0547536"
       ]
      },
      {
       "output_type": "stream",
       "stream": "stdout",
       "text": [
        "\n",
        "[t-SNE] Iteration 100: error = 2.1969011, gradient norm = 0.0013706"
       ]
      },
      {
       "output_type": "stream",
       "stream": "stdout",
       "text": [
        "\n",
        "[t-SNE] Error after 100 iterations with early exaggeration: 2.196901\n",
        "[t-SNE] Iteration 125: error = 2.1413147, gradient norm = 0.0008567"
       ]
      },
      {
       "output_type": "stream",
       "stream": "stdout",
       "text": [
        "\n",
        "[t-SNE] Iteration 125: gradient norm 0.000857. Finished.\n",
        "[t-SNE] Error after 125 iterations: 2.141315\n"
       ]
      }
     ],
     "prompt_number": 4
    },
    {
     "cell_type": "code",
     "collapsed": false,
     "input": [
      "fig = plt.figure(figsize=(15,6), dpi=300) \n",
      "alpha = alpha_scatterplot = 0.8\n",
      "ax = plt.axes(frameon=False)\n",
      "plt.setp(ax, xticks=(), yticks=())\n",
      "plt.scatter(X_embedded[:, 0], X_embedded[:, 1],\n",
      "        c=data.target, alpha=0.5)\n",
      "plt.title(\"Distribution of TF-IDF wrt Category\")\n"
     ],
     "language": "python",
     "metadata": {},
     "outputs": [
      {
       "metadata": {},
       "output_type": "pyout",
       "prompt_number": 5,
       "text": [
        "<matplotlib.text.Text at 0x7f06ea29ce90>"
       ]
      },
      {
       "metadata": {},
       "output_type": "display_data",
       "png": "[encoded data removed]",
       "text": [
        "<matplotlib.figure.Figure at 0x7f071838de50>"
       ]
      }
     ],
     "prompt_number": 5
    },
    {
     "cell_type": "markdown",
     "metadata": {},
     "source": [
      "### Writing a classifier"
     ]
    },
    {
     "cell_type": "markdown",
     "metadata": {},
     "source": [
      "Divide into test and train set"
     ]
    },
    {
     "cell_type": "code",
     "collapsed": false,
     "input": [
      "X_train, X_test, y_train, y_test = cross_validation.train_test_split(documents, \\\n",
      "                                                                     data.target,\\\n",
      "                                                                     test_size=0.3,\\\n",
      "                                                                     random_state=0)\n",
      "print \"Training Size \", len(X_train)\n",
      "print \"Test Size \", len(X_test)"
     ],
     "language": "python",
     "metadata": {},
     "outputs": [
      {
       "output_type": "stream",
       "stream": "stdout",
       "text": [
        "Training Size  140\n",
        "Test Size  60\n"
       ]
      }
     ],
     "prompt_number": 6
    },
    {
     "cell_type": "code",
     "collapsed": false,
     "input": [
      "pipeline = Pipeline([('vect', CountVectorizer()),\n",
      "                     ('tfidf', TfidfTransformer()),\n",
      "                     ('clf', SGDClassifier()),\n",
      "    ])\n",
      "\n",
      "parameters = {\n",
      "    'vect__max_df': (0.5, 0.75),\n",
      "    'vect__ngram_range': ((1, 2), (1, 3)),  # unigrams or bigrams\n",
      "    'tfidf__use_idf': (True, False),\n",
      "    'tfidf__norm': ('l1', 'l2'),\n",
      "    'clf__alpha': (0.00001, 0.000001),\n",
      "    'clf__penalty': ('l2', 'elasticnet'),\n",
      "    'clf__n_iter': (50,100),\n",
      "}\n",
      "\n",
      "grid_search = GridSearchCV(pipeline, parameters, n_jobs=5, verbose=1)\n",
      "model = grid_search.fit(X_train, y_train)"
     ],
     "language": "python",
     "metadata": {},
     "outputs": [
      {
       "output_type": "stream",
       "stream": "stdout",
       "text": [
        "Fitting 3 folds for each of 128 candidates, totalling 384 fits\n"
       ]
      }
     ]
    },
    {
     "cell_type": "markdown",
     "metadata": {},
     "source": [
      "### Print best Parameters"
     ]
    },
    {
     "cell_type": "code",
     "collapsed": false,
     "input": [
      "print(\"Best parameters set:\")\n",
      "best_parameters = grid_search.best_estimator_.get_params()\n",
      "for param_name in sorted(parameters.keys()):\n",
      "    print(\"\\t%s: %r\" % (param_name, best_parameters[param_name]))"
     ],
     "language": "python",
     "metadata": {},
     "outputs": [
      {
       "output_type": "stream",
       "stream": "stdout",
       "text": [
        "Best parameters set:\n",
        "\tclf__alpha: 1e-05\n",
        "\tclf__n_iter: 50\n",
        "\tclf__penalty: 'l2'\n",
        "\ttfidf__norm: 'l1'\n",
        "\ttfidf__use_idf: True\n",
        "\tvect__max_df: 0.5\n",
        "\tvect__ngram_range: (1, 3)\n"
       ]
      }
     ],
     "prompt_number": 8
    },
    {
     "cell_type": "markdown",
     "metadata": {},
     "source": [
      "### Accuracy on train and test"
     ]
    },
    {
     "cell_type": "code",
     "collapsed": false,
     "input": [
      "score = model.score(X_train, y_train)\n",
      "print \"Mean accuracy on the train data is: {0}\".format(score)"
     ],
     "language": "python",
     "metadata": {},
     "outputs": [
      {
       "output_type": "stream",
       "stream": "stdout",
       "text": [
        "Mean accuracy on the train data is: 1.0\n"
       ]
      }
     ],
     "prompt_number": 9
    },
    {
     "cell_type": "code",
     "collapsed": false,
     "input": [
      "score = model.score(X_test, y_test)\n",
      "print \"Mean accuracy on the test data is: {0}\".format(score)"
     ],
     "language": "python",
     "metadata": {},
     "outputs": [
      {
       "output_type": "stream",
       "stream": "stdout",
       "text": [
        "Mean accuracy on the test data is: 0.966666666667\n"
       ]
      }
     ],
     "prompt_number": 10
    },
    {
     "cell_type": "code",
     "collapsed": false,
     "input": [
      "from sklearn.metrics import confusion_matrix\n",
      "import numpy as np\n",
      "\n",
      "def plot_confusion_matrix(cm, title='Confusion matrix', cmap=plt.cm.Blues):\n",
      "    plt.imshow(cm, interpolation='nearest', cmap=cmap)\n",
      "    plt.title(title)\n",
      "    plt.colorbar()\n",
      "    tick_marks = np.arange(len(CATEGORIES))\n",
      "    plt.xticks(tick_marks, CATEGORIES, rotation=45)\n",
      "    plt.yticks(tick_marks, CATEGORIES)\n",
      "    plt.tight_layout()\n",
      "    plt.ylabel('True label')\n",
      "    plt.xlabel('Predicted label')\n",
      " \n",
      "\n",
      "y_pred = model.predict(X_test)\n",
      "# Compute confusion matrix\n",
      "cm = confusion_matrix(y_test, y_pred)\n",
      "np.set_printoptions(precision=2)\n",
      "print('Confusion matrix, without normalization')\n",
      "print(cm)\n",
      "plt.figure()\n",
      "plot_confusion_matrix(cm)"
     ],
     "language": "python",
     "metadata": {},
     "outputs": [
      {
       "output_type": "stream",
       "stream": "stdout",
       "text": [
        "Confusion matrix, without normalization\n",
        "[[31  1]\n",
        " [ 1 27]]\n"
       ]
      },
      {
       "metadata": {},
       "output_type": "display_data",
       "png": "[encoded data removed]",
       "text": [
        "<matplotlib.figure.Figure at 0x7f06db8870d0>"
       ]
      }
     ],
     "prompt_number": 16
    },
    {
     "cell_type": "code",
     "collapsed": false,
     "input": [],
     "language": "python",
     "metadata": {},
     "outputs": []
    }
   ],
   "metadata": {}
  }
 ]
}