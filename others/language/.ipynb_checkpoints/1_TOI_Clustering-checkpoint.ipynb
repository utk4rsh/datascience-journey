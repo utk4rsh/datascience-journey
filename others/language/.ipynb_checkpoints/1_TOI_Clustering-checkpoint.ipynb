{
 "metadata": {
  "name": "",
  "signature": "sha256:7b25ef3dba79a1a5686d1aa54b464b1e12ceaeace764006e72216f6ad75297d4"
 },
 "nbformat": 3,
 "nbformat_minor": 0,
 "worksheets": [
  {
   "cells": [
    {
     "cell_type": "markdown",
     "metadata": {},
     "source": [
      "#TOI News Data Clustering"
     ]
    },
    {
     "cell_type": "markdown",
     "metadata": {},
     "source": [
      "The dataset is from times of india belonging to two categories namely politics & sports. \n",
      "This notebook attempts to do document clustering on this dataset using scikit learn."
     ]
    },
    {
     "cell_type": "code",
     "collapsed": false,
     "input": [
      "from sklearn.pipeline import Pipeline\n",
      "from sklearn.decomposition import TruncatedSVD\n",
      "from sklearn.feature_extraction.text import TfidfVectorizer\n",
      "from sklearn.feature_extraction.text import HashingVectorizer\n",
      "from sklearn.feature_extraction.text import TfidfTransformer\n",
      "from sklearn.manifold import TSNE\n",
      "from sklearn.pipeline import make_pipeline\n",
      "from sklearn.cluster import KMeans, MiniBatchKMeans\n",
      "from sklearn import cross_validation\n",
      "from sklearn.pipeline import Pipeline\n",
      "from sklearn.grid_search import GridSearchCV\n",
      "from sklearn.metrics import confusion_matrix\n",
      "from sklearn import metrics\n",
      "\n",
      "from data_utils import load_files\n",
      "import warnings # current version of seaborn generates a bunch of warnings that we'll ignore\n",
      "warnings.filterwarnings(\"ignore\")\n",
      "import seaborn as sns\n",
      "%matplotlib inline\n",
      "import matplotlib.pyplot as plt\n",
      "\n",
      "CATEGORIES=[\"politics\",\"sports\"]\n",
      " \n",
      "dataset=load_files('data/cluster_dataset/')\n",
      "documents = [open(f).read() for f in dataset.filenames]\n",
      "\n",
      "print \"Total Documents in all categories\", len(documents)"
     ],
     "language": "python",
     "metadata": {},
     "outputs": [
      {
       "output_type": "stream",
       "stream": "stdout",
       "text": [
        "Total Documents in all categories 200\n"
       ]
      }
     ],
     "prompt_number": 14
    },
    {
     "cell_type": "markdown",
     "metadata": {},
     "source": [
      "##Running K-Means"
     ]
    },
    {
     "cell_type": "code",
     "collapsed": false,
     "input": [
      "hasher = HashingVectorizer(n_features=10000,\n",
      "                                    stop_words='english', non_negative=True,\n",
      "                                    norm=None, binary=False)\n",
      "vectorizer = make_pipeline(hasher, TfidfTransformer())\n",
      "\n",
      "X = vectorizer.fit_transform(dataset.data)\n",
      "print(\"n_samples: %d, n_features: %d\" % X.shape)"
     ],
     "language": "python",
     "metadata": {},
     "outputs": [
      {
       "output_type": "stream",
       "stream": "stdout",
       "text": [
        "n_samples: 200, n_features: 10000\n"
       ]
      }
     ],
     "prompt_number": 16
    },
    {
     "cell_type": "code",
     "collapsed": false,
     "input": [
      "km = KMeans(n_clusters=2, init='k-means++', max_iter=100, n_init=1,\n",
      "         verbose=1)\n",
      "print(\"Clustering sparse data with %s\" % km)\n",
      "km.fit(X)\n",
      "print(\"Finished Clustering\")"
     ],
     "language": "python",
     "metadata": {},
     "outputs": [
      {
       "output_type": "stream",
       "stream": "stdout",
       "text": [
        "Clustering sparse data with KMeans(copy_x=True, init='k-means++', max_iter=100, n_clusters=2, n_init=1,\n",
        "    n_jobs=1, precompute_distances='auto', random_state=None, tol=0.0001,\n",
        "    verbose=1)\n",
        "Initialization complete\n",
        "Iteration  0, inertia 376.814\n",
        "Iteration  1, inertia 190.455\n",
        "Iteration  2, inertia 190.322\n",
        "Iteration  3, inertia 190.299\n",
        "Converged at iteration 3\n",
        "Finished Clustering\n"
       ]
      }
     ],
     "prompt_number": 18
    },
    {
     "cell_type": "markdown",
     "metadata": {},
     "source": [
      "### Statistics"
     ]
    },
    {
     "cell_type": "code",
     "collapsed": false,
     "input": [
      "from sklearn.datasets import load_files as lf\n",
      "CATEGORIES=[\"politics\",\"sports\"]\n",
      "gold_data=lf('data/classification_dataset',categories=CATEGORIES)\n",
      "labels = gold_data.target\n",
      "print(\"Homogeneity: %0.3f\" % metrics.homogeneity_score(labels, km.labels_))\n",
      "print(\"Completeness: %0.3f\" % metrics.completeness_score(labels, km.labels_))\n",
      "print(\"V-measure: %0.3f\" % metrics.v_measure_score(labels, km.labels_))\n",
      "print(\"Adjusted Rand-Index: %.3f\"\n",
      "   % metrics.adjusted_rand_score(labels, km.labels_))\n",
      "print(\"Silhouette Coefficient: %0.3f\"\n",
      "   % metrics.silhouette_score(X, km.labels_, sample_size=1000))"
     ],
     "language": "python",
     "metadata": {},
     "outputs": [
      {
       "output_type": "stream",
       "stream": "stdout",
       "text": [
        "Homogeneity: 0.012\n",
        "Completeness: 0.013\n",
        "V-measure: 0.012\n",
        "Adjusted Rand-Index: 0.010\n",
        "Silhouette Coefficient: 0.007\n"
       ]
      }
     ],
     "prompt_number": 21
    },
    {
     "cell_type": "markdown",
     "metadata": {},
     "source": [
      "###Visualizing Clusters"
     ]
    },
    {
     "cell_type": "code",
     "collapsed": false,
     "input": [
      "from sklearn.decomposition import PCA\n",
      "from sklearn.preprocessing import scale\n",
      "import numpy as np \n",
      "\n",
      "reduced_data = PCA(n_components=2).fit_transform(X.toarray())\n",
      "kmeans = KMeans(init='k-means++', n_clusters=2, n_init=10)\n",
      "kmeans.fit(reduced_data)\n",
      "\n",
      "# Step size of the mesh. Decrease to increase the quality of the VQ.\n",
      "h = .02     # point in the mesh [x_min, m_max]x[y_min, y_max].\n",
      "\n",
      "# Plot the decision boundary. For that, we will assign a color to each\n",
      "x_min, x_max = reduced_data[:, 0].min() - 1, reduced_data[:, 0].max() + 1\n",
      "y_min, y_max = reduced_data[:, 1].min() - 1, reduced_data[:, 1].max() + 1\n",
      "xx, yy = np.meshgrid(np.arange(x_min, x_max, h), np.arange(y_min, y_max, h))\n",
      "\n",
      "# Obtain labels for each point in mesh. Use last trained model.\n",
      "Z = kmeans.predict(np.c_[xx.ravel(), yy.ravel()])\n",
      "# Put the result into a color plot\n",
      "Z = Z.reshape(xx.shape)\n",
      "plt.figure(1)\n",
      "plt.clf()\n",
      "plt.imshow(Z, interpolation='nearest',\n",
      "           extent=(xx.min(), xx.max(), yy.min(), yy.max()),\n",
      "           cmap=plt.cm.Paired,\n",
      "           aspect='auto', origin='lower')\n",
      "\n",
      "plt.plot(reduced_data[:, 0], reduced_data[:, 1], 'k.', markersize=4)\n",
      "# Plot the centroids as a white X\n",
      "centroids = kmeans.cluster_centers_\n",
      "plt.scatter(centroids[:, 0], centroids[:, 1],\n",
      "            marker='x', s=100, linewidths=3,\n",
      "            color='w', zorder=10)\n",
      "plt.title('K-means clustering on the TOI dataset')\n",
      "plt.xlim(x_min, x_max)\n",
      "plt.ylim(y_min, y_max)\n",
      "plt.show()"
     ],
     "language": "python",
     "metadata": {},
     "outputs": [
      {
       "metadata": {},
       "output_type": "display_data",
       "png": "[encoded data removed]",
       "text": [
        "<matplotlib.figure.Figure at 0x7f756199fd50>"
       ]
      }
     ],
     "prompt_number": 61
    }
   ],
   "metadata": {}
  }
 ]
}