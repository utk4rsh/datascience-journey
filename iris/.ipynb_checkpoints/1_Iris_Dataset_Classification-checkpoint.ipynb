{
 "metadata": {
  "name": "",
  "signature": "sha256:c28cd2c368ea66d1e922d615d8a8382edd779fd9595d114ec45c65bbd231bf82"
 },
 "nbformat": 3,
 "nbformat_minor": 0,
 "worksheets": [
  {
   "cells": [
    {
     "cell_type": "markdown",
     "metadata": {},
     "source": [
      "## Classification on the Iris dataset"
     ]
    },
    {
     "cell_type": "code",
     "collapsed": false,
     "input": [
      "# Pandas is a data processing and CSV file I/O library. It creates a data frame for the CSV for processing.\n",
      "import pandas as pd\n",
      "from sklearn.preprocessing import LabelEncoder, StandardScaler\n",
      "import warnings # current version of seaborn generates a bunch of warnings that we'll ignore\n",
      "warnings.filterwarnings(\"ignore\")\n",
      "#Plot all matplot graphs inline\n",
      "%matplotlib inline\n",
      "# Matplot lib is another Python graph plot library\n",
      "import matplotlib.pyplot as plt\n",
      "from sklearn import cross_validation\n",
      "import numpy as np\n",
      "from sklearn.linear_model import SGDClassifier\n",
      "from sklearn.pipeline import Pipeline\n",
      "from sklearn.grid_search import GridSearchCV\n",
      "from sklearn.metrics import confusion_matrix\n",
      "\n",
      "iris_data = pd.read_csv(\"data/iris.csv\") \n",
      "\n",
      "# Peeking the dataset\n",
      "iris_data.head()"
     ],
     "language": "python",
     "metadata": {},
     "outputs": [
      {
       "html": [
        "<div style=\"max-width:1500px;overflow:auto;\">\n",
        "<table border=\"1\" class=\"dataframe\">\n",
        "  <thead>\n",
        "    <tr style=\"text-align: right;\">\n",
        "      <th></th>\n",
        "      <th>Id</th>\n",
        "      <th>Sepal.Length</th>\n",
        "      <th>Sepal.Width</th>\n",
        "      <th>Petal.Length</th>\n",
        "      <th>Petal.Width</th>\n",
        "      <th>Species</th>\n",
        "    </tr>\n",
        "  </thead>\n",
        "  <tbody>\n",
        "    <tr>\n",
        "      <th>0</th>\n",
        "      <td>1</td>\n",
        "      <td>5.1</td>\n",
        "      <td>3.5</td>\n",
        "      <td>1.4</td>\n",
        "      <td>0.2</td>\n",
        "      <td>setosa</td>\n",
        "    </tr>\n",
        "    <tr>\n",
        "      <th>1</th>\n",
        "      <td>2</td>\n",
        "      <td>4.9</td>\n",
        "      <td>3.0</td>\n",
        "      <td>1.4</td>\n",
        "      <td>0.2</td>\n",
        "      <td>setosa</td>\n",
        "    </tr>\n",
        "    <tr>\n",
        "      <th>2</th>\n",
        "      <td>3</td>\n",
        "      <td>4.7</td>\n",
        "      <td>3.2</td>\n",
        "      <td>1.3</td>\n",
        "      <td>0.2</td>\n",
        "      <td>setosa</td>\n",
        "    </tr>\n",
        "    <tr>\n",
        "      <th>3</th>\n",
        "      <td>4</td>\n",
        "      <td>4.6</td>\n",
        "      <td>3.1</td>\n",
        "      <td>1.5</td>\n",
        "      <td>0.2</td>\n",
        "      <td>setosa</td>\n",
        "    </tr>\n",
        "    <tr>\n",
        "      <th>4</th>\n",
        "      <td>5</td>\n",
        "      <td>5.0</td>\n",
        "      <td>3.6</td>\n",
        "      <td>1.4</td>\n",
        "      <td>0.2</td>\n",
        "      <td>setosa</td>\n",
        "    </tr>\n",
        "  </tbody>\n",
        "</table>\n",
        "</div>"
       ],
       "metadata": {},
       "output_type": "pyout",
       "prompt_number": 1,
       "text": [
        "   Id  Sepal.Length  Sepal.Width  Petal.Length  Petal.Width Species\n",
        "0   1           5.1          3.5           1.4          0.2  setosa\n",
        "1   2           4.9          3.0           1.4          0.2  setosa\n",
        "2   3           4.7          3.2           1.3          0.2  setosa\n",
        "3   4           4.6          3.1           1.5          0.2  setosa\n",
        "4   5           5.0          3.6           1.4          0.2  setosa"
       ]
      }
     ],
     "prompt_number": 1
    },
    {
     "cell_type": "markdown",
     "metadata": {},
     "source": [
      "### Get the columns which can be treated as features"
     ]
    },
    {
     "cell_type": "code",
     "collapsed": false,
     "input": [
      "features_columns = ['Sepal.Length', 'Sepal.Width', 'Petal.Length', 'Petal.Width']"
     ],
     "language": "python",
     "metadata": {},
     "outputs": [],
     "prompt_number": 2
    },
    {
     "cell_type": "markdown",
     "metadata": {},
     "source": [
      "###Feature Scaling"
     ]
    },
    {
     "cell_type": "code",
     "collapsed": false,
     "input": [
      "scaler = StandardScaler()\n",
      "for col in features_columns:\n",
      "    scaler.fit(list(iris_data[col]))\n",
      "    iris_data[col] = scaler.transform(iris_data[col])\n",
      "iris_data.head()"
     ],
     "language": "python",
     "metadata": {},
     "outputs": [
      {
       "html": [
        "<div style=\"max-width:1500px;overflow:auto;\">\n",
        "<table border=\"1\" class=\"dataframe\">\n",
        "  <thead>\n",
        "    <tr style=\"text-align: right;\">\n",
        "      <th></th>\n",
        "      <th>Id</th>\n",
        "      <th>Sepal.Length</th>\n",
        "      <th>Sepal.Width</th>\n",
        "      <th>Petal.Length</th>\n",
        "      <th>Petal.Width</th>\n",
        "      <th>Species</th>\n",
        "    </tr>\n",
        "  </thead>\n",
        "  <tbody>\n",
        "    <tr>\n",
        "      <th>0</th>\n",
        "      <td>1</td>\n",
        "      <td>-0.900681</td>\n",
        "      <td>1.019004</td>\n",
        "      <td>-1.340227</td>\n",
        "      <td>-1.315444</td>\n",
        "      <td>setosa</td>\n",
        "    </tr>\n",
        "    <tr>\n",
        "      <th>1</th>\n",
        "      <td>2</td>\n",
        "      <td>-1.143017</td>\n",
        "      <td>-0.131979</td>\n",
        "      <td>-1.340227</td>\n",
        "      <td>-1.315444</td>\n",
        "      <td>setosa</td>\n",
        "    </tr>\n",
        "    <tr>\n",
        "      <th>2</th>\n",
        "      <td>3</td>\n",
        "      <td>-1.385353</td>\n",
        "      <td>0.328414</td>\n",
        "      <td>-1.397064</td>\n",
        "      <td>-1.315444</td>\n",
        "      <td>setosa</td>\n",
        "    </tr>\n",
        "    <tr>\n",
        "      <th>3</th>\n",
        "      <td>4</td>\n",
        "      <td>-1.506521</td>\n",
        "      <td>0.098217</td>\n",
        "      <td>-1.283389</td>\n",
        "      <td>-1.315444</td>\n",
        "      <td>setosa</td>\n",
        "    </tr>\n",
        "    <tr>\n",
        "      <th>4</th>\n",
        "      <td>5</td>\n",
        "      <td>-1.021849</td>\n",
        "      <td>1.249201</td>\n",
        "      <td>-1.340227</td>\n",
        "      <td>-1.315444</td>\n",
        "      <td>setosa</td>\n",
        "    </tr>\n",
        "  </tbody>\n",
        "</table>\n",
        "</div>"
       ],
       "metadata": {},
       "output_type": "pyout",
       "prompt_number": 3,
       "text": [
        "   Id  Sepal.Length  Sepal.Width  Petal.Length  Petal.Width Species\n",
        "0   1     -0.900681     1.019004     -1.340227    -1.315444  setosa\n",
        "1   2     -1.143017    -0.131979     -1.340227    -1.315444  setosa\n",
        "2   3     -1.385353     0.328414     -1.397064    -1.315444  setosa\n",
        "3   4     -1.506521     0.098217     -1.283389    -1.315444  setosa\n",
        "4   5     -1.021849     1.249201     -1.340227    -1.315444  setosa"
       ]
      }
     ],
     "prompt_number": 3
    },
    {
     "cell_type": "markdown",
     "metadata": {},
     "source": [
      "### Encode Non Numeric Columns"
     ]
    },
    {
     "cell_type": "code",
     "collapsed": false,
     "input": [
      "features_non_numeric = ['Species']"
     ],
     "language": "python",
     "metadata": {},
     "outputs": [],
     "prompt_number": 4
    },
    {
     "cell_type": "code",
     "collapsed": false,
     "input": [
      "le = LabelEncoder()\n",
      "for col in features_non_numeric:\n",
      "    le.fit(list(iris_data[col]))\n",
      "    iris_data[col] = le.transform(iris_data[col])\n",
      "iris_data.head()"
     ],
     "language": "python",
     "metadata": {},
     "outputs": [
      {
       "html": [
        "<div style=\"max-width:1500px;overflow:auto;\">\n",
        "<table border=\"1\" class=\"dataframe\">\n",
        "  <thead>\n",
        "    <tr style=\"text-align: right;\">\n",
        "      <th></th>\n",
        "      <th>Id</th>\n",
        "      <th>Sepal.Length</th>\n",
        "      <th>Sepal.Width</th>\n",
        "      <th>Petal.Length</th>\n",
        "      <th>Petal.Width</th>\n",
        "      <th>Species</th>\n",
        "    </tr>\n",
        "  </thead>\n",
        "  <tbody>\n",
        "    <tr>\n",
        "      <th>0</th>\n",
        "      <td>1</td>\n",
        "      <td>-0.900681</td>\n",
        "      <td>1.019004</td>\n",
        "      <td>-1.340227</td>\n",
        "      <td>-1.315444</td>\n",
        "      <td>0</td>\n",
        "    </tr>\n",
        "    <tr>\n",
        "      <th>1</th>\n",
        "      <td>2</td>\n",
        "      <td>-1.143017</td>\n",
        "      <td>-0.131979</td>\n",
        "      <td>-1.340227</td>\n",
        "      <td>-1.315444</td>\n",
        "      <td>0</td>\n",
        "    </tr>\n",
        "    <tr>\n",
        "      <th>2</th>\n",
        "      <td>3</td>\n",
        "      <td>-1.385353</td>\n",
        "      <td>0.328414</td>\n",
        "      <td>-1.397064</td>\n",
        "      <td>-1.315444</td>\n",
        "      <td>0</td>\n",
        "    </tr>\n",
        "    <tr>\n",
        "      <th>3</th>\n",
        "      <td>4</td>\n",
        "      <td>-1.506521</td>\n",
        "      <td>0.098217</td>\n",
        "      <td>-1.283389</td>\n",
        "      <td>-1.315444</td>\n",
        "      <td>0</td>\n",
        "    </tr>\n",
        "    <tr>\n",
        "      <th>4</th>\n",
        "      <td>5</td>\n",
        "      <td>-1.021849</td>\n",
        "      <td>1.249201</td>\n",
        "      <td>-1.340227</td>\n",
        "      <td>-1.315444</td>\n",
        "      <td>0</td>\n",
        "    </tr>\n",
        "  </tbody>\n",
        "</table>\n",
        "</div>"
       ],
       "metadata": {},
       "output_type": "pyout",
       "prompt_number": 5,
       "text": [
        "   Id  Sepal.Length  Sepal.Width  Petal.Length  Petal.Width  Species\n",
        "0   1     -0.900681     1.019004     -1.340227    -1.315444        0\n",
        "1   2     -1.143017    -0.131979     -1.340227    -1.315444        0\n",
        "2   3     -1.385353     0.328414     -1.397064    -1.315444        0\n",
        "3   4     -1.506521     0.098217     -1.283389    -1.315444        0\n",
        "4   5     -1.021849     1.249201     -1.340227    -1.315444        0"
       ]
      }
     ],
     "prompt_number": 5
    },
    {
     "cell_type": "markdown",
     "metadata": {},
     "source": [
      "###Lets start writing a classifier"
     ]
    },
    {
     "cell_type": "code",
     "collapsed": false,
     "input": [
      "#Split for Cross Validation\n",
      "targets = list(iris_data.Species)\n",
      "iris_data = iris_data.drop(['Id', 'Species'], axis=1)\n",
      "X_train, X_test, y_train, y_test = cross_validation.train_test_split(iris_data, targets, test_size=0.3, random_state=0)\n",
      "print \"Training Size \", len(X_train)\n",
      "print \"Test Size \", len(X_test)"
     ],
     "language": "python",
     "metadata": {},
     "outputs": [
      {
       "ename": "AttributeError",
       "evalue": "'DataFrame' object has no attribute 'Species'",
       "output_type": "pyerr",
       "traceback": [
        "\u001b[0;31m---------------------------------------------------------------------------\u001b[0m\n\u001b[0;31mAttributeError\u001b[0m                            Traceback (most recent call last)",
        "\u001b[0;32m<ipython-input-6-6916d8bc3f5c>\u001b[0m in \u001b[0;36m<module>\u001b[0;34m()\u001b[0m\n\u001b[1;32m      1\u001b[0m \u001b[0;31m#Split for Cross Validation\u001b[0m\u001b[0;34m\u001b[0m\u001b[0;34m\u001b[0m\u001b[0m\n\u001b[1;32m      2\u001b[0m \u001b[0miris_data\u001b[0m \u001b[0;34m=\u001b[0m \u001b[0miris_data\u001b[0m\u001b[0;34m.\u001b[0m\u001b[0mdrop\u001b[0m\u001b[0;34m(\u001b[0m\u001b[0;34m[\u001b[0m\u001b[0;34m'Id'\u001b[0m\u001b[0;34m,\u001b[0m \u001b[0;34m'Species'\u001b[0m\u001b[0;34m]\u001b[0m\u001b[0;34m,\u001b[0m \u001b[0maxis\u001b[0m\u001b[0;34m=\u001b[0m\u001b[0;36m1\u001b[0m\u001b[0;34m)\u001b[0m\u001b[0;34m\u001b[0m\u001b[0m\n\u001b[0;32m----> 3\u001b[0;31m \u001b[0mtargets\u001b[0m \u001b[0;34m=\u001b[0m \u001b[0mlist\u001b[0m\u001b[0;34m(\u001b[0m\u001b[0miris_data\u001b[0m\u001b[0;34m.\u001b[0m\u001b[0mSpecies\u001b[0m\u001b[0;34m)\u001b[0m\u001b[0;34m\u001b[0m\u001b[0m\n\u001b[0m\u001b[1;32m      4\u001b[0m \u001b[0mX_train\u001b[0m\u001b[0;34m,\u001b[0m \u001b[0mX_test\u001b[0m\u001b[0;34m,\u001b[0m \u001b[0my_train\u001b[0m\u001b[0;34m,\u001b[0m \u001b[0my_test\u001b[0m \u001b[0;34m=\u001b[0m \u001b[0mcross_validation\u001b[0m\u001b[0;34m.\u001b[0m\u001b[0mtrain_test_split\u001b[0m\u001b[0;34m(\u001b[0m\u001b[0miris_data\u001b[0m\u001b[0;34m,\u001b[0m \u001b[0mtargets\u001b[0m\u001b[0;34m,\u001b[0m \u001b[0mtest_size\u001b[0m\u001b[0;34m=\u001b[0m\u001b[0;36m0.3\u001b[0m\u001b[0;34m,\u001b[0m \u001b[0mrandom_state\u001b[0m\u001b[0;34m=\u001b[0m\u001b[0;36m0\u001b[0m\u001b[0;34m)\u001b[0m\u001b[0;34m\u001b[0m\u001b[0m\n\u001b[1;32m      5\u001b[0m \u001b[0;32mprint\u001b[0m \u001b[0;34m\"Training Size \"\u001b[0m\u001b[0;34m,\u001b[0m \u001b[0mlen\u001b[0m\u001b[0;34m(\u001b[0m\u001b[0mX_train\u001b[0m\u001b[0;34m)\u001b[0m\u001b[0;34m\u001b[0m\u001b[0m\n",
        "\u001b[0;32m/usr/lib/python2.7/dist-packages/pandas/core/generic.pyc\u001b[0m in \u001b[0;36m__getattr__\u001b[0;34m(self, name)\u001b[0m\n\u001b[1;32m   2358\u001b[0m                 \u001b[0;32mreturn\u001b[0m \u001b[0mself\u001b[0m\u001b[0;34m[\u001b[0m\u001b[0mname\u001b[0m\u001b[0;34m]\u001b[0m\u001b[0;34m\u001b[0m\u001b[0m\n\u001b[1;32m   2359\u001b[0m             raise AttributeError(\"'%s' object has no attribute '%s'\" %\n\u001b[0;32m-> 2360\u001b[0;31m                                  (type(self).__name__, name))\n\u001b[0m\u001b[1;32m   2361\u001b[0m \u001b[0;34m\u001b[0m\u001b[0m\n\u001b[1;32m   2362\u001b[0m     \u001b[0;32mdef\u001b[0m \u001b[0m__setattr__\u001b[0m\u001b[0;34m(\u001b[0m\u001b[0mself\u001b[0m\u001b[0;34m,\u001b[0m \u001b[0mname\u001b[0m\u001b[0;34m,\u001b[0m \u001b[0mvalue\u001b[0m\u001b[0;34m)\u001b[0m\u001b[0;34m:\u001b[0m\u001b[0;34m\u001b[0m\u001b[0m\n",
        "\u001b[0;31mAttributeError\u001b[0m: 'DataFrame' object has no attribute 'Species'"
       ]
      }
     ],
     "prompt_number": 6
    },
    {
     "cell_type": "code",
     "collapsed": false,
     "input": [
      "pipeline = Pipeline([\n",
      "        ('clf', SGDClassifier()),\n",
      "    ])\n",
      "\n",
      "parameters = {\n",
      "'clf__alpha': (0.00001, 0.000001),\n",
      "'clf__penalty': ('l2', 'elasticnet'),\n",
      "'clf__n_iter': (100, 500, 680),\n",
      "}\n",
      "\n",
      "grid_search = GridSearchCV(pipeline, parameters, n_jobs=-1)\n",
      "model = grid_search.fit(X_train, y_train)"
     ],
     "language": "python",
     "metadata": {},
     "outputs": [],
     "prompt_number": 9
    },
    {
     "cell_type": "markdown",
     "metadata": {},
     "source": [
      "### Accuracy on train and test"
     ]
    },
    {
     "cell_type": "code",
     "collapsed": false,
     "input": [
      "score = model.score(X_train, y_train)\n",
      "print \"Mean accuracy on the train data is: {0}\".format(score)"
     ],
     "language": "python",
     "metadata": {},
     "outputs": [
      {
       "output_type": "stream",
       "stream": "stdout",
       "text": [
        "Mean accuracy on the train data is: 0.990476190476\n"
       ]
      }
     ],
     "prompt_number": 10
    },
    {
     "cell_type": "code",
     "collapsed": false,
     "input": [
      "score = model.score(X_test, y_test)\n",
      "print \"Mean accuracy on the test data is: {0}\".format(score)"
     ],
     "language": "python",
     "metadata": {},
     "outputs": [
      {
       "output_type": "stream",
       "stream": "stdout",
       "text": [
        "Mean accuracy on the test data is: 1.0\n"
       ]
      }
     ],
     "prompt_number": 11
    },
    {
     "cell_type": "markdown",
     "metadata": {},
     "source": [
      "### Confusion Matrix"
     ]
    },
    {
     "cell_type": "code",
     "collapsed": false,
     "input": [
      "from sklearn.metrics import confusion_matrix\n",
      "\n",
      "def plot_confusion_matrix(cm, title='Confusion matrix', cmap=plt.cm.Blues):\n",
      "    plt.imshow(cm, interpolation='nearest', cmap=cmap)\n",
      "    plt.title(title)\n",
      "    plt.colorbar()\n",
      "    tick_marks = np.arange(len(targets))\n",
      "    plt.xticks(tick_marks, targets, rotation=45)\n",
      "    plt.yticks(tick_marks, targets)\n",
      "    plt.tight_layout()\n",
      "    plt.ylabel('True label')\n",
      "    plt.xlabel('Predicted label')\n",
      " \n",
      "\n",
      "y_pred = model.predict(X_test)\n",
      "# Compute confusion matrix\n",
      "cm = confusion_matrix(y_test, y_pred)\n",
      "np.set_printoptions(precision=2)\n",
      "print('Confusion matrix, without normalization')\n",
      "print(cm)\n",
      "plt.figure()\n",
      "plot_confusion_matrix(cm)\n",
      " "
     ],
     "language": "python",
     "metadata": {},
     "outputs": [
      {
       "output_type": "stream",
       "stream": "stdout",
       "text": [
        "Confusion matrix, without normalization\n",
        "[[15  1  0]\n",
        " [ 9  8  1]\n",
        " [ 0  0 11]]\n"
       ]
      },
      {
       "metadata": {},
       "output_type": "display_data",
       "png": "[encoded data removed]",
       "text": [
        "<matplotlib.figure.Figure at 0x7f6db2be5450>"
       ]
      }
     ],
     "prompt_number": 54
    }
   ],
   "metadata": {}
  }
 ]
}