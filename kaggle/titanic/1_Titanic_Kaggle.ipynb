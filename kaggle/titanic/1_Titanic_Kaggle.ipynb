{
 "metadata": {
  "name": "",
  "signature": "sha256:55addb24080deb9f0ca163c032aef82d2bca13785360205ba05b52f572d8e603"
 },
 "nbformat": 3,
 "nbformat_minor": 0,
 "worksheets": [
  {
   "cells": [
    {
     "cell_type": "markdown",
     "metadata": {},
     "source": [
      "## Predict survival on the Titanic  ##\n",
      "\n",
      "https://www.kaggle.com/c/titanic\n",
      "    "
     ]
    },
    {
     "cell_type": "code",
     "collapsed": false,
     "input": [
      "import matplotlib.pyplot as plt\n",
      "from sklearn.ensemble import RandomForestClassifier, AdaBoostClassifier\n",
      "from sklearn.preprocessing import LabelEncoder, StandardScaler\n",
      "%matplotlib inline\n",
      "import pandas as pd\n",
      "import numpy as np\n",
      "import csv as csv\n",
      "import math\n",
      "\n",
      "# Load the train file into a dataframe\n",
      "train_df = pd.read_csv('train.csv', header=0)"
     ],
     "language": "python",
     "metadata": {},
     "outputs": [],
     "prompt_number": 1
    },
    {
     "cell_type": "markdown",
     "metadata": {},
     "source": [
      "###Lets look at the data, what rows and columns it has"
     ]
    },
    {
     "cell_type": "code",
     "collapsed": false,
     "input": [
      "train_df.head()"
     ],
     "language": "python",
     "metadata": {},
     "outputs": [
      {
       "html": [
        "<div style=\"max-width:1500px;overflow:auto;\">\n",
        "<table border=\"1\" class=\"dataframe\">\n",
        "  <thead>\n",
        "    <tr style=\"text-align: right;\">\n",
        "      <th></th>\n",
        "      <th>PassengerId</th>\n",
        "      <th>Survived</th>\n",
        "      <th>Pclass</th>\n",
        "      <th>Name</th>\n",
        "      <th>Sex</th>\n",
        "      <th>Age</th>\n",
        "      <th>SibSp</th>\n",
        "      <th>Parch</th>\n",
        "      <th>Ticket</th>\n",
        "      <th>Fare</th>\n",
        "      <th>Cabin</th>\n",
        "      <th>Embarked</th>\n",
        "    </tr>\n",
        "  </thead>\n",
        "  <tbody>\n",
        "    <tr>\n",
        "      <th>0</th>\n",
        "      <td>1</td>\n",
        "      <td>0</td>\n",
        "      <td>3</td>\n",
        "      <td>Braund, Mr. Owen Harris</td>\n",
        "      <td>male</td>\n",
        "      <td>22</td>\n",
        "      <td>1</td>\n",
        "      <td>0</td>\n",
        "      <td>A/5 21171</td>\n",
        "      <td>7.2500</td>\n",
        "      <td>NaN</td>\n",
        "      <td>S</td>\n",
        "    </tr>\n",
        "    <tr>\n",
        "      <th>1</th>\n",
        "      <td>2</td>\n",
        "      <td>1</td>\n",
        "      <td>1</td>\n",
        "      <td>Cumings, Mrs. John Bradley (Florence Briggs Th...</td>\n",
        "      <td>female</td>\n",
        "      <td>38</td>\n",
        "      <td>1</td>\n",
        "      <td>0</td>\n",
        "      <td>PC 17599</td>\n",
        "      <td>71.2833</td>\n",
        "      <td>C85</td>\n",
        "      <td>C</td>\n",
        "    </tr>\n",
        "    <tr>\n",
        "      <th>2</th>\n",
        "      <td>3</td>\n",
        "      <td>1</td>\n",
        "      <td>3</td>\n",
        "      <td>Heikkinen, Miss. Laina</td>\n",
        "      <td>female</td>\n",
        "      <td>26</td>\n",
        "      <td>0</td>\n",
        "      <td>0</td>\n",
        "      <td>STON/O2. 3101282</td>\n",
        "      <td>7.9250</td>\n",
        "      <td>NaN</td>\n",
        "      <td>S</td>\n",
        "    </tr>\n",
        "    <tr>\n",
        "      <th>3</th>\n",
        "      <td>4</td>\n",
        "      <td>1</td>\n",
        "      <td>1</td>\n",
        "      <td>Futrelle, Mrs. Jacques Heath (Lily May Peel)</td>\n",
        "      <td>female</td>\n",
        "      <td>35</td>\n",
        "      <td>1</td>\n",
        "      <td>0</td>\n",
        "      <td>113803</td>\n",
        "      <td>53.1000</td>\n",
        "      <td>C123</td>\n",
        "      <td>S</td>\n",
        "    </tr>\n",
        "    <tr>\n",
        "      <th>4</th>\n",
        "      <td>5</td>\n",
        "      <td>0</td>\n",
        "      <td>3</td>\n",
        "      <td>Allen, Mr. William Henry</td>\n",
        "      <td>male</td>\n",
        "      <td>35</td>\n",
        "      <td>0</td>\n",
        "      <td>0</td>\n",
        "      <td>373450</td>\n",
        "      <td>8.0500</td>\n",
        "      <td>NaN</td>\n",
        "      <td>S</td>\n",
        "    </tr>\n",
        "  </tbody>\n",
        "</table>\n",
        "</div>"
       ],
       "metadata": {},
       "output_type": "pyout",
       "prompt_number": 2,
       "text": [
        "   PassengerId  Survived  Pclass  \\\n",
        "0            1         0       3   \n",
        "1            2         1       1   \n",
        "2            3         1       3   \n",
        "3            4         1       1   \n",
        "4            5         0       3   \n",
        "\n",
        "                                                Name     Sex  Age  SibSp  \\\n",
        "0                            Braund, Mr. Owen Harris    male   22      1   \n",
        "1  Cumings, Mrs. John Bradley (Florence Briggs Th...  female   38      1   \n",
        "2                             Heikkinen, Miss. Laina  female   26      0   \n",
        "3       Futrelle, Mrs. Jacques Heath (Lily May Peel)  female   35      1   \n",
        "4                           Allen, Mr. William Henry    male   35      0   \n",
        "\n",
        "   Parch            Ticket     Fare Cabin Embarked  \n",
        "0      0         A/5 21171   7.2500   NaN        S  \n",
        "1      0          PC 17599  71.2833   C85        C  \n",
        "2      0  STON/O2. 3101282   7.9250   NaN        S  \n",
        "3      0            113803  53.1000  C123        S  \n",
        "4      0            373450   8.0500   NaN        S  "
       ]
      }
     ],
     "prompt_number": 2
    },
    {
     "cell_type": "markdown",
     "metadata": {},
     "source": [
      "### Lets plot few graphs of features vs Survival Rate\n",
      "\n",
      "#### 1. Distribution of Survival by Count\n"
     ]
    },
    {
     "cell_type": "code",
     "collapsed": false,
     "input": [
      "fig = plt.figure(figsize=(20,6), dpi=1600) \n",
      "alpha = alpha_scatterplot = 0.2 \n",
      "\n",
      "# lets us plot many diffrent shaped graphs together \n",
      "ax1 = plt.subplot2grid((2,3),(0,0))\n",
      "# plots a bar graph of those who surived vs those who did not.               \n",
      "train_df.Survived.value_counts().plot(kind='bar')\n",
      "# puts a title on our graph\n",
      "plt.title(\"Distribution of Survival, (1 = Survived)\")    \n"
     ],
     "language": "python",
     "metadata": {},
     "outputs": [
      {
       "metadata": {},
       "output_type": "pyout",
       "prompt_number": 3,
       "text": [
        "<matplotlib.text.Text at 0x7fbf5c227a50>"
       ]
      },
      {
       "metadata": {},
       "output_type": "display_data",
       "png": "[encoded data removed]",
       "text": [
        "<matplotlib.figure.Figure at 0x7fbf88344490>"
       ]
      }
     ],
     "prompt_number": 3
    },
    {
     "cell_type": "markdown",
     "metadata": {},
     "source": [
      "#### 2. Distribution of Survival By Age"
     ]
    },
    {
     "cell_type": "code",
     "collapsed": false,
     "input": [
      "fig = plt.figure(figsize=(20,6), dpi=1600) \n",
      "plt.subplot2grid((2,3),(0,1))\n",
      "plt.scatter(train_df.Survived, train_df.Age)\n",
      "# sets the y axis lable\n",
      "plt.ylabel(\"Age\")\n",
      "# formats the grid line style of our graphs                          \n",
      "plt.grid(b=True, which='major', axis='y')  \n",
      "plt.title(\"Survival by Age,  (1 = Survived)\")"
     ],
     "language": "python",
     "metadata": {},
     "outputs": [
      {
       "metadata": {},
       "output_type": "pyout",
       "prompt_number": 4,
       "text": [
        "<matplotlib.text.Text at 0x7fbf5c129410>"
       ]
      },
      {
       "metadata": {},
       "output_type": "display_data",
       "png": "[encoded data removed]",
       "text": [
        "<matplotlib.figure.Figure at 0x7fbf5c207650>"
       ]
      }
     ],
     "prompt_number": 4
    },
    {
     "cell_type": "markdown",
     "metadata": {},
     "source": [
      "#### 3. Distribution of Passengers By Class"
     ]
    },
    {
     "cell_type": "code",
     "collapsed": false,
     "input": [
      "fig = plt.figure(figsize=(20,6), dpi=1600) \n",
      "ax3 = plt.subplot2grid((2,3),(0,2))\n",
      "train_df.Pclass.value_counts().plot(kind=\"barh\")\n",
      "ax3.set_ylim(-1, len(train_df.Pclass.value_counts()))\n",
      "plt.title(\"Class Distribution\")"
     ],
     "language": "python",
     "metadata": {},
     "outputs": [
      {
       "metadata": {},
       "output_type": "pyout",
       "prompt_number": 5,
       "text": [
        "<matplotlib.text.Text at 0x7fbf12c94dd0>"
       ]
      },
      {
       "metadata": {},
       "output_type": "display_data",
       "png": "[encoded data removed]",
       "text": [
        "<matplotlib.figure.Figure at 0x7fbf12cc6bd0>"
       ]
      }
     ],
     "prompt_number": 5
    },
    {
     "cell_type": "markdown",
     "metadata": {},
     "source": [
      "#### 4. Distribution of Passengers by Boarding Location"
     ]
    },
    {
     "cell_type": "code",
     "collapsed": false,
     "input": [
      "fig = plt.figure(figsize=(20,6), dpi=1600) \n",
      "ax5 = plt.subplot2grid((2,3),(1,2))\n",
      "train_df.Embarked.value_counts().plot(kind='bar')\n",
      "plt.title(\"Passengers per boarding location\")"
     ],
     "language": "python",
     "metadata": {},
     "outputs": [
      {
       "metadata": {},
       "output_type": "pyout",
       "prompt_number": 6,
       "text": [
        "<matplotlib.text.Text at 0x7fbf5c0b2290>"
       ]
      },
      {
       "metadata": {},
       "output_type": "display_data",
       "png": "[encoded data removed]",
       "text": [
        "<matplotlib.figure.Figure at 0x7fbf5c1adc10>"
       ]
      }
     ],
     "prompt_number": 6
    },
    {
     "cell_type": "markdown",
     "metadata": {},
     "source": [
      "#### 5. Distribution of Survivors by Gender"
     ]
    },
    {
     "cell_type": "code",
     "collapsed": false,
     "input": [
      "fig = plt.figure(figsize=(20,6))\n",
      "\n",
      "train_df_male = train_df.Survived[train_df.Sex == 'male'].value_counts().sort_index()\n",
      "train_df_female = train_df.Survived[train_df.Sex == 'female'].value_counts().sort_index()\n",
      "\n",
      "ax1 = fig.add_subplot(121)\n",
      "train_df_male.plot(kind='barh',label='Male', alpha=0.55)\n",
      "train_df_female.plot(kind='barh', color='#FA2379',label='Female', alpha=0.55)\n",
      "plt.title(\"Who Survived with respect to Gender, (raw value counts) \"); \n",
      "plt.legend(loc='best')\n",
      "ax1.set_ylim(-1, 2)\n",
      "\n",
      "#adjust graph to display the proportions of survival by gender\n",
      "ax2 = fig.add_subplot(122)\n",
      "(train_df_male/float(train_df_male.sum())).plot(kind='barh',label='Male', alpha=0.55)  \n",
      "(train_df_female/float(train_df_female.sum())).plot(kind='barh', color='#FA2379',label='Female', alpha=0.55)\n",
      "plt.title(\"Who Survived proportionally with respect to Gender\"); \n",
      "plt.legend(loc='best')\n",
      "\n",
      "ax2.set_ylim(-1, 2)"
     ],
     "language": "python",
     "metadata": {},
     "outputs": [
      {
       "metadata": {},
       "output_type": "pyout",
       "prompt_number": 7,
       "text": [
        "(-1, 2)"
       ]
      },
      {
       "metadata": {},
       "output_type": "display_data",
       "png": "[encoded data removed]",
       "text": [
        "<matplotlib.figure.Figure at 0x7fbf5bfa3950>"
       ]
      }
     ],
     "prompt_number": 7
    },
    {
     "cell_type": "markdown",
     "metadata": {},
     "source": [
      "#### 6. Distribution of Survival with respect to gender and class"
     ]
    },
    {
     "cell_type": "code",
     "collapsed": false,
     "input": [
      "fig = plt.figure(figsize=(20,5), dpi=1600)\n",
      "alpha_level = 0.65\n",
      "\n",
      "# building on the previous code, here we create an additional subset with in the gender subset \n",
      "# we created for the survived variable. I know, thats a lot of subsets. After we do that we call \n",
      "# value_counts() so it it can be easily plotted as a bar graph. this is repeated for each gender \n",
      "# class pair.\n",
      "ax1=fig.add_subplot(141)\n",
      "female_highclass = train_df.Survived[train_df.Sex == 'female'][train_df.Pclass != 3].value_counts()\n",
      "female_highclass.plot(kind='bar', label='female, highclass', color='#FA2479', alpha=alpha_level)\n",
      "ax1.set_xticklabels([\"Survived\", \"Died\"], rotation=0)\n",
      "ax1.set_xlim(-1, len(female_highclass))\n",
      "plt.legend(loc='best')\n",
      "\n",
      "ax2=fig.add_subplot(142, sharey=ax1)\n",
      "female_lowclass = train_df.Survived[train_df.Sex == 'female'][train_df.Pclass == 3].value_counts()\n",
      "female_lowclass.plot(kind='bar', label='female, low class', color='pink', alpha=alpha_level)\n",
      "ax2.set_xticklabels([\"Died\",\"Survived\"], rotation=0)\n",
      "ax2.set_xlim(-1, len(female_lowclass))\n",
      "plt.legend(loc='best')\n",
      "\n",
      "ax3=fig.add_subplot(143, sharey=ax1)\n",
      "male_lowclass = train_df.Survived[train_df.Sex == 'male'][train_df.Pclass == 3].value_counts()\n",
      "male_lowclass.plot(kind='bar', label='male, low class',color='lightblue', alpha=alpha_level)\n",
      "ax3.set_xticklabels([\"Died\",\"Survived\"], rotation=0)\n",
      "ax3.set_xlim(-1, len(male_lowclass))\n",
      "plt.legend(loc='best')\n",
      "\n",
      "ax4=fig.add_subplot(144, sharey=ax1)\n",
      "male_highclass = train_df.Survived[train_df.Sex == 'male'][train_df.Pclass != 3].value_counts()\n",
      "male_highclass.plot(kind='bar', label='male, highclass', alpha=alpha_level, color='steelblue')\n",
      "ax4.set_xticklabels([\"Died\",\"Survived\"], rotation=0)\n",
      "ax4.set_xlim(-1, len(male_highclass))\n",
      "plt.legend(loc='best')"
     ],
     "language": "python",
     "metadata": {},
     "outputs": [
      {
       "metadata": {},
       "output_type": "pyout",
       "prompt_number": 8,
       "text": [
        "<matplotlib.legend.Legend at 0x7fbf5bb3ac50>"
       ]
      },
      {
       "metadata": {},
       "output_type": "display_data",
       "png": "[encoded data removed]",
       "text": [
        "<matplotlib.figure.Figure at 0x7fbf5bdef690>"
       ]
      }
     ],
     "prompt_number": 8
    },
    {
     "cell_type": "markdown",
     "metadata": {},
     "source": [
      "### Writing a classifier\n",
      "\n",
      "We need to convert all strings to integer classifiers and fill in the missing values of the data and make it complete."
     ]
    },
    {
     "cell_type": "markdown",
     "metadata": {},
     "source": [
      "###Fill missing values "
     ]
    },
    {
     "cell_type": "markdown",
     "metadata": {},
     "source": [
      "#### Get the test data as well"
     ]
    },
    {
     "cell_type": "code",
     "collapsed": false,
     "input": [
      "# TEST DATA\n",
      "test_df = pd.read_csv('test.csv', header=0) \n",
      "test_df.columns"
     ],
     "language": "python",
     "metadata": {},
     "outputs": [
      {
       "metadata": {},
       "output_type": "pyout",
       "prompt_number": 11,
       "text": [
        "Index([u'PassengerId', u'Pclass', u'Name', u'Sex', u'Age', u'SibSp', u'Parch',\n",
        "       u'Ticket', u'Fare', u'Cabin', u'Embarked'],\n",
        "      dtype='object')"
       ]
      }
     ],
     "prompt_number": 11
    },
    {
     "cell_type": "markdown",
     "metadata": {},
     "source": [
      "####Missing Emabarked Column"
     ]
    },
    {
     "cell_type": "code",
     "collapsed": false,
     "input": [
      "# Embarked from 'C', 'Q', 'S'\n",
      "\n",
      "# All missing Embarked -> just make them embark from most common place\n",
      "if len(train_df.Embarked[ train_df.Embarked.isnull() ]) > 0:\n",
      "    train_df.Embarked[ train_df.Embarked.isnull() ] = train_df.Embarked.dropna().mode().values\n",
      "train_df.Embarked.head()"
     ],
     "language": "python",
     "metadata": {},
     "outputs": [
      {
       "output_type": "stream",
       "stream": "stderr",
       "text": [
        "-c:5: SettingWithCopyWarning: \n",
        "A value is trying to be set on a copy of a slice from a DataFrame\n",
        "\n",
        "See the caveats in the documentation: http://pandas.pydata.org/pandas-docs/stable/indexing.html#indexing-view-versus-copy\n"
       ]
      },
      {
       "metadata": {},
       "output_type": "pyout",
       "prompt_number": 12,
       "text": [
        "0    S\n",
        "1    C\n",
        "2    S\n",
        "3    S\n",
        "4    S\n",
        "Name: Embarked, dtype: object"
       ]
      }
     ],
     "prompt_number": 12
    },
    {
     "cell_type": "code",
     "collapsed": false,
     "input": [
      "if len(test_df.Embarked[ test_df.Embarked.isnull() ]) > 0:\n",
      "    test_df.Embarked[ test_df.Embarked.isnull() ] = test_df.Embarked.dropna().mode().values\n",
      "test_df.Embarked.head()"
     ],
     "language": "python",
     "metadata": {},
     "outputs": [
      {
       "metadata": {},
       "output_type": "pyout",
       "prompt_number": 13,
       "text": [
        "0    Q\n",
        "1    S\n",
        "2    Q\n",
        "3    S\n",
        "4    S\n",
        "Name: Embarked, dtype: object"
       ]
      }
     ],
     "prompt_number": 13
    },
    {
     "cell_type": "markdown",
     "metadata": {},
     "source": [
      "####Missing Age Columns"
     ]
    },
    {
     "cell_type": "code",
     "collapsed": false,
     "input": [
      "median_age = train_df['Age'].dropna().median()\n",
      "if len(train_df.Age[ train_df.Age.isnull() ]) > 0:\n",
      "    train_df.loc[ (train_df.Age.isnull()), 'Age'] = median_age\n",
      "train_df.Age.head()"
     ],
     "language": "python",
     "metadata": {},
     "outputs": [
      {
       "metadata": {},
       "output_type": "pyout",
       "prompt_number": 14,
       "text": [
        "0    22\n",
        "1    38\n",
        "2    26\n",
        "3    35\n",
        "4    35\n",
        "Name: Age, dtype: float64"
       ]
      }
     ],
     "prompt_number": 14
    },
    {
     "cell_type": "code",
     "collapsed": false,
     "input": [
      "# All the ages with no data -> make the median of all Ages\n",
      "median_age = test_df['Age'].dropna().median()\n",
      "if len(test_df.Age[ test_df.Age.isnull() ]) > 0:\n",
      "    test_df.loc[ (test_df.Age.isnull()), 'Age'] = median_age\n",
      "test_df.Age.head()"
     ],
     "language": "python",
     "metadata": {},
     "outputs": [
      {
       "metadata": {},
       "output_type": "pyout",
       "prompt_number": 15,
       "text": [
        "0    34.5\n",
        "1    47.0\n",
        "2    62.0\n",
        "3    27.0\n",
        "4    22.0\n",
        "Name: Age, dtype: float64"
       ]
      }
     ],
     "prompt_number": 15
    },
    {
     "cell_type": "markdown",
     "metadata": {},
     "source": [
      "#### NAN Fare Columns"
     ]
    },
    {
     "cell_type": "code",
     "collapsed": false,
     "input": [
      "# All the missing Fares -> assume median of their respective class\n",
      "if len(train_df.Fare[ train_df.Fare.isnull() ]) > 0:\n",
      "    median_fare = np.zeros(3)\n",
      "    for f in range(0,3):                                              # loop 0 to 2\n",
      "        median_fare[f] = train_df[ train_df.Pclass == f+1 ]['Fare'].dropna().median()\n",
      "    for f in range(0,3):                                              # loop 0 to 2\n",
      "        train_df.loc[ (train_df.Fare.isnull()) & (train_df.Pclass == f+1 ), 'Fare'] = median_fare[f]\n",
      "train_df.Fare.head()"
     ],
     "language": "python",
     "metadata": {},
     "outputs": [
      {
       "metadata": {},
       "output_type": "pyout",
       "prompt_number": 16,
       "text": [
        "0     7.2500\n",
        "1    71.2833\n",
        "2     7.9250\n",
        "3    53.1000\n",
        "4     8.0500\n",
        "Name: Fare, dtype: float64"
       ]
      }
     ],
     "prompt_number": 16
    },
    {
     "cell_type": "code",
     "collapsed": false,
     "input": [
      "# All the missing Fares -> assume median of their respective class\n",
      "if len(test_df.Fare[ test_df.Fare.isnull() ]) > 0:\n",
      "    median_fare = np.zeros(3)\n",
      "    for f in range(0,3):                                              # loop 0 to 2\n",
      "        median_fare[f] = test_df[ test_df.Pclass == f+1 ]['Fare'].dropna().median()\n",
      "    for f in range(0,3):                                              # loop 0 to 2\n",
      "        test_df.loc[ (test_df.Fare.isnull()) & (test_df.Pclass == f+1 ), 'Fare'] = median_fare[f]\n",
      "test_df.Fare.head()"
     ],
     "language": "python",
     "metadata": {},
     "outputs": [
      {
       "metadata": {},
       "output_type": "pyout",
       "prompt_number": 18,
       "text": [
        "0     7.8292\n",
        "1     7.0000\n",
        "2     9.6875\n",
        "3     8.6625\n",
        "4    12.2875\n",
        "Name: Fare, dtype: float64"
       ]
      }
     ],
     "prompt_number": 18
    },
    {
     "cell_type": "markdown",
     "metadata": {},
     "source": [
      "#### NAN Cabin Columns"
     ]
    },
    {
     "cell_type": "code",
     "collapsed": false,
     "input": [
      "dummy_cabin = 'C123'\n",
      "if len(train_df.Cabin[ train_df.Cabin.isnull() ]) > 0:\n",
      "    train_df.loc[ (train_df.Cabin.isnull()), 'Cabin'] = dummy_cabin\n",
      "train_df.Cabin.head()"
     ],
     "language": "python",
     "metadata": {},
     "outputs": [
      {
       "metadata": {},
       "output_type": "pyout",
       "prompt_number": 19,
       "text": [
        "0    C123\n",
        "1     C85\n",
        "2    C123\n",
        "3    C123\n",
        "4    C123\n",
        "Name: Cabin, dtype: object"
       ]
      }
     ],
     "prompt_number": 19
    },
    {
     "cell_type": "code",
     "collapsed": false,
     "input": [
      "dummy_cabin = 'C123'\n",
      "if len(test_df.Cabin[ test_df.Cabin.isnull() ]) > 0:\n",
      "    test_df.loc[ (test_df.Cabin.isnull()), 'Cabin'] = dummy_cabin\n",
      "test_df.Cabin.head()"
     ],
     "language": "python",
     "metadata": {},
     "outputs": [
      {
       "metadata": {},
       "output_type": "pyout",
       "prompt_number": 20,
       "text": [
        "0    C123\n",
        "1    C123\n",
        "2    C123\n",
        "3    C123\n",
        "4    C123\n",
        "Name: Cabin, dtype: object"
       ]
      }
     ],
     "prompt_number": 20
    },
    {
     "cell_type": "markdown",
     "metadata": {},
     "source": [
      "### Add new features"
     ]
    },
    {
     "cell_type": "code",
     "collapsed": false,
     "input": [
      "#Families with same title need to die :P\n",
      "test_title = test_df.Name.map(lambda x: x.split(\",\")[0])\n",
      "train_title = train_df.Name.map(lambda x: x.split(\",\")[0])\n",
      "titles = list(enumerate(np.unique(test_title))) + list(enumerate(np.unique(train_title)))   # determine all values of titles,\n",
      "title_dict = { name : i for i, name in titles }\n",
      "test_df['Title'] = test_df.Name.map( lambda x: title_dict[x.split(\",\")[0]]).astype(int)\n",
      "train_df['Title'] = train_df.Name.map( lambda x: title_dict[x.split(\",\")[0]]).astype(int)\n",
      "train_df.columns"
     ],
     "language": "python",
     "metadata": {},
     "outputs": [
      {
       "output_type": "stream",
       "stream": "stdout",
       "text": [
        "<class 'pandas.core.series.Series'>\n"
       ]
      },
      {
       "metadata": {},
       "output_type": "pyout",
       "prompt_number": 31,
       "text": [
        "Index([u'PassengerId', u'Survived', u'Pclass', u'Name', u'Sex', u'Age',\n",
        "       u'SibSp', u'Parch', u'Ticket', u'Fare', u'Cabin', u'Embarked',\n",
        "       u'Title'],\n",
        "      dtype='object')"
       ]
      }
     ],
     "prompt_number": 31
    },
    {
     "cell_type": "markdown",
     "metadata": {},
     "source": [
      "### Features for Classifier"
     ]
    },
    {
     "cell_type": "code",
     "collapsed": false,
     "input": [
      "features = ['Pclass','Name','Sex','Age','SibSp','Parch','Ticket','Fare','Cabin','Embarked', 'Title']\n",
      "features_non_numeric = ['Pclass','Name','Sex','Age','SibSp','Parch','Ticket','Fare','Cabin','Embarked','Title']"
     ],
     "language": "python",
     "metadata": {},
     "outputs": [],
     "prompt_number": 32
    },
    {
     "cell_type": "markdown",
     "metadata": {},
     "source": [
      "### Vectorizing non-numberic values"
     ]
    },
    {
     "cell_type": "markdown",
     "metadata": {},
     "source": [
      "#### Get the test data as well"
     ]
    },
    {
     "cell_type": "code",
     "collapsed": false,
     "input": [
      "from sklearn.preprocessing import LabelEncoder, StandardScaler\n",
      "\n",
      "le = LabelEncoder()\n",
      "for col in features_non_numeric:\n",
      "    le.fit(list(train_df[col])+list(test_df[col]))\n",
      "    train_df[col] = le.transform(train_df[col])\n",
      "    test_df[col] = le.transform(test_df[col])\n",
      "\n",
      "print train_df.head()\n",
      "print test_df.head()"
     ],
     "language": "python",
     "metadata": {},
     "outputs": [
      {
       "output_type": "stream",
       "stream": "stdout",
       "text": [
        "   PassengerId  Survived  Pclass  Name  Sex  Age  SibSp  Parch  Ticket  Fare  \\\n",
        "0            1         0       2   155    1   32      1      0     720    20   \n",
        "1            2         1       0   286    0   57      1      0     816   237   \n",
        "2            3         1       2   523    0   39      0      0     914    50   \n",
        "3            4         1       0   422    0   53      1      0      65   217   \n",
        "4            5         0       2    22    1   53      0      0     649    52   \n",
        "\n",
        "   Cabin  Embarked  Title  \n",
        "0     70         2     73  \n",
        "1    106         0    136  \n",
        "2     70         2    251  \n",
        "3     70         2    198  \n",
        "4     70         2     11  \n",
        "   PassengerId  Pclass  Name  Sex  Age  SibSp  Parch  Ticket  Fare  Cabin  \\\n",
        "0          892       2   638    1   52      0      0     376    43     70   \n",
        "1          893       2  1266    0   69      1      0     582    12     70   \n",
        "2          894       1   837    1   86      0      0     184    77     70   \n",
        "3          895       2  1278    1   41      0      0     366    63     70   \n",
        "4          896       2   543    0   32      1      1     338    93     70   \n",
        "\n",
        "   Embarked  Title  \n",
        "0         1    306  \n",
        "1         2    339  \n",
        "2         1    231  \n",
        "3         2    344  \n",
        "4         2    259  \n"
       ]
      }
     ],
     "prompt_number": 33
    },
    {
     "cell_type": "markdown",
     "metadata": {},
     "source": [
      "###Drop Unwanted Features\n",
      "\n",
      "Scaling all Numerical Value "
     ]
    },
    {
     "cell_type": "code",
     "collapsed": false,
     "input": [
      "# Remove the Name column, Cabin, Ticket, and Sex (since I copied and filled it to Gender)\n",
      "train_df = train_df.drop(['Name', 'Ticket', 'Cabin', 'PassengerId'], axis=1)\n",
      "# Collect the test data's PassengerIds before dropping it\n",
      "ids = test_df['PassengerId'].values\n",
      "test_df = test_df.drop(['Name', 'Ticket', 'Cabin', 'PassengerId'], axis=1)\n",
      "print train_df.head()\n",
      "print test_df.head()"
     ],
     "language": "python",
     "metadata": {},
     "outputs": [
      {
       "output_type": "stream",
       "stream": "stdout",
       "text": [
        "   Survived  Pclass  Sex  Age  SibSp  Parch  Fare  Embarked  Title\n",
        "0         0       2    1   32      1      0    20         2     73\n",
        "1         1       0    0   57      1      0   237         0    136\n",
        "2         1       2    0   39      0      0    50         2    251\n",
        "3         1       0    0   53      1      0   217         2    198\n",
        "4         0       2    1   53      0      0    52         2     11\n",
        "   Pclass  Sex  Age  SibSp  Parch  Fare  Embarked  Title\n",
        "0       2    1   52      0      0    43         1    306\n",
        "1       2    0   69      1      0    12         2    339\n",
        "2       1    1   86      0      0    77         1    231\n",
        "3       2    1   41      0      0    63         2    344\n",
        "4       2    0   32      1      1    93         2    259\n"
       ]
      }
     ],
     "prompt_number": 34
    },
    {
     "cell_type": "markdown",
     "metadata": {},
     "source": [
      "Doing the Same what we did till now for test data"
     ]
    },
    {
     "cell_type": "markdown",
     "metadata": {},
     "source": [
      "Let train a classifier now that we have data vectorized"
     ]
    },
    {
     "cell_type": "code",
     "collapsed": false,
     "input": [
      "from sklearn import metrics\n",
      "from sklearn.cross_validation import train_test_split\n",
      "from sklearn.linear_model import SGDClassifier\n",
      "from sklearn.pipeline import Pipeline\n",
      "from sklearn.grid_search import GridSearchCV\n",
      "\n",
      "train_data = train_df.values\n",
      "test_data = test_df.values\n",
      "\n",
      "print 'Training...'\n",
      "X = train_data[0::,1::]\n",
      "Y = train_data[0::,0]\n",
      "\n",
      "\n",
      "#model = RandomForestClassifier(bootstrap=True, class_weight=None, criterion='gini',\n",
      "#            max_depth=None, max_features='auto', max_leaf_nodes=None,\n",
      "#            min_samples_leaf=1, min_samples_split=2,\n",
      "#            min_weight_fraction_leaf=0.0, n_estimators=10, n_jobs=1,\n",
      "#            oob_score=True, random_state=None, verbose=0, warm_start=False)\n",
      "\n",
      "pipeline = Pipeline([\n",
      "        ('clf', SGDClassifier()),\n",
      "    ])\n",
      "\n",
      "parameters = {\n",
      "'clf__alpha': (0.00001, 0.000001),\n",
      "'clf__penalty': ('l2', 'elasticnet'),\n",
      "'clf__n_iter': (100, 500, 680),\n",
      "}\n",
      "\n",
      "X_train, X_test, Y_train, Y_test = train_test_split(X, Y, test_size=0.2, random_state=42)\n",
      "print \"Training Size \" , len(X_train)\n",
      "print \"Test Size \" , len(X_test)\n",
      "\n",
      "\n",
      "grid_search = GridSearchCV(pipeline, parameters, n_jobs=-1)\n",
      "grid_search.fit(X_train, Y_train)\n",
      "\n",
      "print(grid_search.grid_scores_)\n",
      "\n",
      "print \"Report ..\"\n",
      "\n",
      "target_names = list()\n",
      "target_names.append(\"0\")\n",
      "target_names.append(\"1\")\n",
      "\n",
      "Y_predicted = model.predict(X_test).astype(int)\n",
      "print(metrics.classification_report(Y_test, Y_predicted, target_names=target_names))\n",
      "\n",
      "# Print and plot the confusion matrix\n",
      "cm = metrics.confusion_matrix(Y_test, Y_predicted)\n",
      "print(cm)\n",
      "\n",
      "score = model.score(X_train, Y_train)\n",
      "print \"Mean accuracy on the data was: {0}\".format(score)\n",
      "\n",
      "print 'Predicting Output for Submission ...'\n",
      "output = model.predict(test_data).astype(int)\n",
      "\n",
      "predictions_file = open(\"submissing_using_sgd_1.csv\", \"wb\")\n",
      "open_file_object = csv.writer(predictions_file)\n",
      "open_file_object.writerow([\"PassengerId\",\"Survived\"])\n",
      "open_file_object.writerows(zip(ids, output))\n",
      "predictions_file.close()\n",
      "print 'Done.'\n"
     ],
     "language": "python",
     "metadata": {},
     "outputs": [
      {
       "output_type": "stream",
       "stream": "stdout",
       "text": [
        "Training...\n",
        "Training Size  623\n",
        "Test Size  268\n"
       ]
      },
      {
       "output_type": "stream",
       "stream": "stdout",
       "text": [
        "[mean: 0.65490, std: 0.02444, params: {'clf__penalty': 'l2', 'clf__n_iter': 100, 'clf__alpha': 1e-05}, mean: 0.60353, std: 0.03585, params: {'clf__penalty': 'elasticnet', 'clf__n_iter': 100, 'clf__alpha': 1e-05}, mean: 0.58106, std: 0.06916, params: {'clf__penalty': 'l2', 'clf__n_iter': 500, 'clf__alpha': 1e-05}, mean: 0.67416, std: 0.03157, params: {'clf__penalty': 'elasticnet', 'clf__n_iter': 500, 'clf__alpha': 1e-05}, mean: 0.58748, std: 0.09745, params: {'clf__penalty': 'l2', 'clf__n_iter': 680, 'clf__alpha': 1e-05}, mean: 0.67897, std: 0.04195, params: {'clf__penalty': 'elasticnet', 'clf__n_iter': 680, 'clf__alpha': 1e-05}, mean: 0.56019, std: 0.07406, params: {'clf__penalty': 'l2', 'clf__n_iter': 100, 'clf__alpha': 1e-06}, mean: 0.67416, std: 0.05101, params: {'clf__penalty': 'elasticnet', 'clf__n_iter': 100, 'clf__alpha': 1e-06}, mean: 0.67095, std: 0.03398, params: {'clf__penalty': 'l2', 'clf__n_iter': 500, 'clf__alpha': 1e-06}, mean: 0.64526, std: 0.10428, params: {'clf__penalty': 'elasticnet', 'clf__n_iter': 500, 'clf__alpha': 1e-06}, mean: 0.58427, std: 0.07036, params: {'clf__penalty': 'l2', 'clf__n_iter': 680, 'clf__alpha': 1e-06}, mean: 0.58748, std: 0.12350, params: {'clf__penalty': 'elasticnet', 'clf__n_iter': 680, 'clf__alpha': 1e-06}]\n",
        "Report ..\n",
        "             precision    recall  f1-score   support\n",
        "\n",
        "          0       0.87      0.95      0.91       157\n",
        "          1       0.92      0.79      0.85       111\n",
        "\n",
        "avg / total       0.89      0.88      0.88       268\n",
        "\n",
        "[[149   8]\n",
        " [ 23  88]]\n",
        "Mean accuracy on the data was: 0.980738362761\n",
        "Predicting Output for Submission ...\n",
        "Done.\n"
       ]
      }
     ],
     "prompt_number": 58
    },
    {
     "cell_type": "code",
     "collapsed": false,
     "input": [],
     "language": "python",
     "metadata": {},
     "outputs": []
    }
   ],
   "metadata": {}
  }
 ]
}